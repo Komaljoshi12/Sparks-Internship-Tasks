{
 "cells": [
  {
   "cell_type": "markdown",
   "metadata": {},
   "source": [
    "# Stock Market Prediction using Numerical and Textual Analysis\n",
    "\n",
    "## Create a hybrid model for stock price/performance prediction using numerical analysis of historical stock prices, and sentimental analysis of news headlines.\n",
    "\n",
    "**Komal Joshi**"
   ]
  },
  {
   "cell_type": "markdown",
   "metadata": {},
   "source": [
    "### Importing Required Packages"
   ]
  },
  {
   "cell_type": "code",
   "execution_count": 13,
   "metadata": {},
   "outputs": [],
   "source": [
    "import numpy as np\n",
    "import pandas as pd\n",
    "import matplotlib.pyplot as plt\n",
    "import seaborn as sns\n",
    "import textblob\n",
    "from textblob import TextBlob\n",
    "from sklearn.preprocessing import MinMaxScaler\n",
    "from statsmodels.tsa.vector_ar.var_model import VAR\n",
    "from sklearn.metrics import mean_squared_error\n",
    "from sklearn.metrics import accuracy_score\n",
    "import scipy.stats as stats"
   ]
  },
  {
   "cell_type": "markdown",
   "metadata": {},
   "source": [
    "#### Import the News Headlines Dataset"
   ]
  },
  {
   "cell_type": "code",
   "execution_count": 2,
   "metadata": {},
   "outputs": [],
   "source": [
    "news_data = pd.read_csv('News.csv')"
   ]
  },
  {
   "cell_type": "code",
   "execution_count": 3,
   "metadata": {},
   "outputs": [
    {
     "data": {
      "text/html": [
       "<div>\n",
       "<style scoped>\n",
       "    .dataframe tbody tr th:only-of-type {\n",
       "        vertical-align: middle;\n",
       "    }\n",
       "\n",
       "    .dataframe tbody tr th {\n",
       "        vertical-align: top;\n",
       "    }\n",
       "\n",
       "    .dataframe thead th {\n",
       "        text-align: right;\n",
       "    }\n",
       "</style>\n",
       "<table border=\"1\" class=\"dataframe\">\n",
       "  <thead>\n",
       "    <tr style=\"text-align: right;\">\n",
       "      <th></th>\n",
       "      <th>publish_date</th>\n",
       "      <th>headline_category</th>\n",
       "      <th>headline_text</th>\n",
       "    </tr>\n",
       "  </thead>\n",
       "  <tbody>\n",
       "    <tr>\n",
       "      <td>0</td>\n",
       "      <td>20010101</td>\n",
       "      <td>sports.wwe</td>\n",
       "      <td>win over cena satisfying but defeating underta...</td>\n",
       "    </tr>\n",
       "    <tr>\n",
       "      <td>1</td>\n",
       "      <td>20010102</td>\n",
       "      <td>unknown</td>\n",
       "      <td>Status quo will not be disturbed at Ayodhya; s...</td>\n",
       "    </tr>\n",
       "    <tr>\n",
       "      <td>2</td>\n",
       "      <td>20010102</td>\n",
       "      <td>unknown</td>\n",
       "      <td>Fissures in Hurriyat over Pak visit</td>\n",
       "    </tr>\n",
       "    <tr>\n",
       "      <td>3</td>\n",
       "      <td>20010102</td>\n",
       "      <td>unknown</td>\n",
       "      <td>America's unwanted heading for India?</td>\n",
       "    </tr>\n",
       "    <tr>\n",
       "      <td>4</td>\n",
       "      <td>20010102</td>\n",
       "      <td>unknown</td>\n",
       "      <td>For bigwigs; it is destination Goa</td>\n",
       "    </tr>\n",
       "  </tbody>\n",
       "</table>\n",
       "</div>"
      ],
      "text/plain": [
       "   publish_date headline_category  \\\n",
       "0      20010101        sports.wwe   \n",
       "1      20010102           unknown   \n",
       "2      20010102           unknown   \n",
       "3      20010102           unknown   \n",
       "4      20010102           unknown   \n",
       "\n",
       "                                       headline_text  \n",
       "0  win over cena satisfying but defeating underta...  \n",
       "1  Status quo will not be disturbed at Ayodhya; s...  \n",
       "2                Fissures in Hurriyat over Pak visit  \n",
       "3              America's unwanted heading for India?  \n",
       "4                 For bigwigs; it is destination Goa  "
      ]
     },
     "execution_count": 3,
     "metadata": {},
     "output_type": "execute_result"
    }
   ],
   "source": [
    "news_data.head()"
   ]
  },
  {
   "cell_type": "markdown",
   "metadata": {},
   "source": [
    "### Data Pre-processing and EDA of News Dataset"
   ]
  },
  {
   "cell_type": "code",
   "execution_count": 4,
   "metadata": {},
   "outputs": [],
   "source": [
    "news_data['published_date'] = np.array([str(str(str(x)[:4]) + '/' + str(str(x)[4:6]) + '/' + str(str(x)[6:])) for x in news_data['publish_date']])"
   ]
  },
  {
   "cell_type": "code",
   "execution_count": 5,
   "metadata": {},
   "outputs": [
    {
     "data": {
      "text/html": [
       "<div>\n",
       "<style scoped>\n",
       "    .dataframe tbody tr th:only-of-type {\n",
       "        vertical-align: middle;\n",
       "    }\n",
       "\n",
       "    .dataframe tbody tr th {\n",
       "        vertical-align: top;\n",
       "    }\n",
       "\n",
       "    .dataframe thead th {\n",
       "        text-align: right;\n",
       "    }\n",
       "</style>\n",
       "<table border=\"1\" class=\"dataframe\">\n",
       "  <thead>\n",
       "    <tr style=\"text-align: right;\">\n",
       "      <th></th>\n",
       "      <th>publish_date</th>\n",
       "      <th>headline_category</th>\n",
       "      <th>headline_text</th>\n",
       "      <th>published_date</th>\n",
       "    </tr>\n",
       "  </thead>\n",
       "  <tbody>\n",
       "    <tr>\n",
       "      <td>0</td>\n",
       "      <td>20010101</td>\n",
       "      <td>sports.wwe</td>\n",
       "      <td>win over cena satisfying but defeating underta...</td>\n",
       "      <td>2001/01/01</td>\n",
       "    </tr>\n",
       "    <tr>\n",
       "      <td>1</td>\n",
       "      <td>20010102</td>\n",
       "      <td>unknown</td>\n",
       "      <td>Status quo will not be disturbed at Ayodhya; s...</td>\n",
       "      <td>2001/01/02</td>\n",
       "    </tr>\n",
       "    <tr>\n",
       "      <td>2</td>\n",
       "      <td>20010102</td>\n",
       "      <td>unknown</td>\n",
       "      <td>Fissures in Hurriyat over Pak visit</td>\n",
       "      <td>2001/01/02</td>\n",
       "    </tr>\n",
       "    <tr>\n",
       "      <td>3</td>\n",
       "      <td>20010102</td>\n",
       "      <td>unknown</td>\n",
       "      <td>America's unwanted heading for India?</td>\n",
       "      <td>2001/01/02</td>\n",
       "    </tr>\n",
       "    <tr>\n",
       "      <td>4</td>\n",
       "      <td>20010102</td>\n",
       "      <td>unknown</td>\n",
       "      <td>For bigwigs; it is destination Goa</td>\n",
       "      <td>2001/01/02</td>\n",
       "    </tr>\n",
       "  </tbody>\n",
       "</table>\n",
       "</div>"
      ],
      "text/plain": [
       "   publish_date headline_category  \\\n",
       "0      20010101        sports.wwe   \n",
       "1      20010102           unknown   \n",
       "2      20010102           unknown   \n",
       "3      20010102           unknown   \n",
       "4      20010102           unknown   \n",
       "\n",
       "                                       headline_text published_date  \n",
       "0  win over cena satisfying but defeating underta...     2001/01/01  \n",
       "1  Status quo will not be disturbed at Ayodhya; s...     2001/01/02  \n",
       "2                Fissures in Hurriyat over Pak visit     2001/01/02  \n",
       "3              America's unwanted heading for India?     2001/01/02  \n",
       "4                 For bigwigs; it is destination Goa     2001/01/02  "
      ]
     },
     "execution_count": 5,
     "metadata": {},
     "output_type": "execute_result"
    }
   ],
   "source": [
    "news_data.head()"
   ]
  },
  {
   "cell_type": "code",
   "execution_count": 6,
   "metadata": {},
   "outputs": [],
   "source": [
    "news_data = news_data.drop('publish_date', axis=1)"
   ]
  },
  {
   "cell_type": "code",
   "execution_count": 7,
   "metadata": {},
   "outputs": [
    {
     "data": {
      "text/html": [
       "<div>\n",
       "<style scoped>\n",
       "    .dataframe tbody tr th:only-of-type {\n",
       "        vertical-align: middle;\n",
       "    }\n",
       "\n",
       "    .dataframe tbody tr th {\n",
       "        vertical-align: top;\n",
       "    }\n",
       "\n",
       "    .dataframe thead th {\n",
       "        text-align: right;\n",
       "    }\n",
       "</style>\n",
       "<table border=\"1\" class=\"dataframe\">\n",
       "  <thead>\n",
       "    <tr style=\"text-align: right;\">\n",
       "      <th></th>\n",
       "      <th>headline_category</th>\n",
       "      <th>headline_text</th>\n",
       "      <th>published_date</th>\n",
       "    </tr>\n",
       "  </thead>\n",
       "  <tbody>\n",
       "    <tr>\n",
       "      <td>0</td>\n",
       "      <td>sports.wwe</td>\n",
       "      <td>win over cena satisfying but defeating underta...</td>\n",
       "      <td>2001/01/01</td>\n",
       "    </tr>\n",
       "    <tr>\n",
       "      <td>1</td>\n",
       "      <td>unknown</td>\n",
       "      <td>Status quo will not be disturbed at Ayodhya; s...</td>\n",
       "      <td>2001/01/02</td>\n",
       "    </tr>\n",
       "    <tr>\n",
       "      <td>2</td>\n",
       "      <td>unknown</td>\n",
       "      <td>Fissures in Hurriyat over Pak visit</td>\n",
       "      <td>2001/01/02</td>\n",
       "    </tr>\n",
       "    <tr>\n",
       "      <td>3</td>\n",
       "      <td>unknown</td>\n",
       "      <td>America's unwanted heading for India?</td>\n",
       "      <td>2001/01/02</td>\n",
       "    </tr>\n",
       "    <tr>\n",
       "      <td>4</td>\n",
       "      <td>unknown</td>\n",
       "      <td>For bigwigs; it is destination Goa</td>\n",
       "      <td>2001/01/02</td>\n",
       "    </tr>\n",
       "  </tbody>\n",
       "</table>\n",
       "</div>"
      ],
      "text/plain": [
       "  headline_category                                      headline_text  \\\n",
       "0        sports.wwe  win over cena satisfying but defeating underta...   \n",
       "1           unknown  Status quo will not be disturbed at Ayodhya; s...   \n",
       "2           unknown                Fissures in Hurriyat over Pak visit   \n",
       "3           unknown              America's unwanted heading for India?   \n",
       "4           unknown                 For bigwigs; it is destination Goa   \n",
       "\n",
       "  published_date  \n",
       "0     2001/01/01  \n",
       "1     2001/01/02  \n",
       "2     2001/01/02  \n",
       "3     2001/01/02  \n",
       "4     2001/01/02  "
      ]
     },
     "execution_count": 7,
     "metadata": {},
     "output_type": "execute_result"
    }
   ],
   "source": [
    "news_data.head()"
   ]
  },
  {
   "cell_type": "code",
   "execution_count": 8,
   "metadata": {},
   "outputs": [],
   "source": [
    "news_data['published_date'] = pd.to_datetime(news_data['published_date'])"
   ]
  },
  {
   "cell_type": "code",
   "execution_count": 9,
   "metadata": {},
   "outputs": [
    {
     "name": "stdout",
     "output_type": "stream",
     "text": [
      "<class 'pandas.core.frame.DataFrame'>\n",
      "RangeIndex: 3297172 entries, 0 to 3297171\n",
      "Data columns (total 3 columns):\n",
      "headline_category    object\n",
      "headline_text        object\n",
      "published_date       datetime64[ns]\n",
      "dtypes: datetime64[ns](1), object(2)\n",
      "memory usage: 75.5+ MB\n"
     ]
    }
   ],
   "source": [
    "news_data.info()"
   ]
  },
  {
   "cell_type": "code",
   "execution_count": 10,
   "metadata": {},
   "outputs": [],
   "source": [
    "news_data = news_data[['published_date', 'headline_text']]"
   ]
  },
  {
   "cell_type": "code",
   "execution_count": 11,
   "metadata": {},
   "outputs": [],
   "source": [
    "news_data.columns = ['published_date', 'headline']"
   ]
  },
  {
   "cell_type": "code",
   "execution_count": 12,
   "metadata": {
    "scrolled": true
   },
   "outputs": [
    {
     "data": {
      "text/html": [
       "<div>\n",
       "<style scoped>\n",
       "    .dataframe tbody tr th:only-of-type {\n",
       "        vertical-align: middle;\n",
       "    }\n",
       "\n",
       "    .dataframe tbody tr th {\n",
       "        vertical-align: top;\n",
       "    }\n",
       "\n",
       "    .dataframe thead th {\n",
       "        text-align: right;\n",
       "    }\n",
       "</style>\n",
       "<table border=\"1\" class=\"dataframe\">\n",
       "  <thead>\n",
       "    <tr style=\"text-align: right;\">\n",
       "      <th></th>\n",
       "      <th>published_date</th>\n",
       "      <th>headline</th>\n",
       "    </tr>\n",
       "  </thead>\n",
       "  <tbody>\n",
       "    <tr>\n",
       "      <td>0</td>\n",
       "      <td>2001-01-01</td>\n",
       "      <td>win over cena satisfying but defeating underta...</td>\n",
       "    </tr>\n",
       "    <tr>\n",
       "      <td>1</td>\n",
       "      <td>2001-01-02</td>\n",
       "      <td>Status quo will not be disturbed at Ayodhya; s...</td>\n",
       "    </tr>\n",
       "    <tr>\n",
       "      <td>2</td>\n",
       "      <td>2001-01-02</td>\n",
       "      <td>Fissures in Hurriyat over Pak visit</td>\n",
       "    </tr>\n",
       "    <tr>\n",
       "      <td>3</td>\n",
       "      <td>2001-01-02</td>\n",
       "      <td>America's unwanted heading for India?</td>\n",
       "    </tr>\n",
       "    <tr>\n",
       "      <td>4</td>\n",
       "      <td>2001-01-02</td>\n",
       "      <td>For bigwigs; it is destination Goa</td>\n",
       "    </tr>\n",
       "  </tbody>\n",
       "</table>\n",
       "</div>"
      ],
      "text/plain": [
       "  published_date                                           headline\n",
       "0     2001-01-01  win over cena satisfying but defeating underta...\n",
       "1     2001-01-02  Status quo will not be disturbed at Ayodhya; s...\n",
       "2     2001-01-02                Fissures in Hurriyat over Pak visit\n",
       "3     2001-01-02              America's unwanted heading for India?\n",
       "4     2001-01-02                 For bigwigs; it is destination Goa"
      ]
     },
     "execution_count": 12,
     "metadata": {},
     "output_type": "execute_result"
    }
   ],
   "source": [
    "news_data.head()"
   ]
  },
  {
   "cell_type": "markdown",
   "metadata": {},
   "source": [
    "#### Accumulating the headlines having same dates."
   ]
  },
  {
   "cell_type": "code",
   "execution_count": 14,
   "metadata": {},
   "outputs": [],
   "source": [
    "dict_news = {}"
   ]
  },
  {
   "cell_type": "code",
   "execution_count": 15,
   "metadata": {},
   "outputs": [],
   "source": [
    "temp = news_data.loc[0, 'published_date']\n",
    "temp2 = str(news_data.loc[0, 'headline'])\n",
    "for x in range(1, len(news_data)):\n",
    "    if news_data.loc[x, 'published_date']==temp:\n",
    "        temp2 += '. ' + str(news_data.loc[x, 'headline'])\n",
    "    else:\n",
    "        dict_news[news_data.loc[x-1, 'published_date']] = temp2\n",
    "        temp2 = \"\"\n",
    "        temp = news_data.loc[x, 'published_date']"
   ]
  },
  {
   "cell_type": "code",
   "execution_count": 16,
   "metadata": {},
   "outputs": [
    {
     "data": {
      "text/plain": [
       "7079"
      ]
     },
     "execution_count": 16,
     "metadata": {},
     "output_type": "execute_result"
    }
   ],
   "source": [
    "len(dict_news)"
   ]
  },
  {
   "cell_type": "code",
   "execution_count": 17,
   "metadata": {},
   "outputs": [],
   "source": [
    "indexes = np.arange(0, len(dict_news))"
   ]
  },
  {
   "cell_type": "code",
   "execution_count": 18,
   "metadata": {},
   "outputs": [],
   "source": [
    "df_news = pd.DataFrame(indexes)"
   ]
  },
  {
   "cell_type": "code",
   "execution_count": 19,
   "metadata": {},
   "outputs": [
    {
     "data": {
      "text/html": [
       "<div>\n",
       "<style scoped>\n",
       "    .dataframe tbody tr th:only-of-type {\n",
       "        vertical-align: middle;\n",
       "    }\n",
       "\n",
       "    .dataframe tbody tr th {\n",
       "        vertical-align: top;\n",
       "    }\n",
       "\n",
       "    .dataframe thead th {\n",
       "        text-align: right;\n",
       "    }\n",
       "</style>\n",
       "<table border=\"1\" class=\"dataframe\">\n",
       "  <thead>\n",
       "    <tr style=\"text-align: right;\">\n",
       "      <th></th>\n",
       "      <th>0</th>\n",
       "    </tr>\n",
       "  </thead>\n",
       "  <tbody>\n",
       "    <tr>\n",
       "      <td>0</td>\n",
       "      <td>0</td>\n",
       "    </tr>\n",
       "    <tr>\n",
       "      <td>1</td>\n",
       "      <td>1</td>\n",
       "    </tr>\n",
       "    <tr>\n",
       "      <td>2</td>\n",
       "      <td>2</td>\n",
       "    </tr>\n",
       "    <tr>\n",
       "      <td>3</td>\n",
       "      <td>3</td>\n",
       "    </tr>\n",
       "    <tr>\n",
       "      <td>4</td>\n",
       "      <td>4</td>\n",
       "    </tr>\n",
       "  </tbody>\n",
       "</table>\n",
       "</div>"
      ],
      "text/plain": [
       "   0\n",
       "0  0\n",
       "1  1\n",
       "2  2\n",
       "3  3\n",
       "4  4"
      ]
     },
     "execution_count": 19,
     "metadata": {},
     "output_type": "execute_result"
    }
   ],
   "source": [
    "df_news.head()"
   ]
  },
  {
   "cell_type": "code",
   "execution_count": 20,
   "metadata": {},
   "outputs": [],
   "source": [
    "df_news['Published_Date'] = dict_news.keys()"
   ]
  },
  {
   "cell_type": "code",
   "execution_count": 21,
   "metadata": {
    "scrolled": true
   },
   "outputs": [
    {
     "data": {
      "text/html": [
       "<div>\n",
       "<style scoped>\n",
       "    .dataframe tbody tr th:only-of-type {\n",
       "        vertical-align: middle;\n",
       "    }\n",
       "\n",
       "    .dataframe tbody tr th {\n",
       "        vertical-align: top;\n",
       "    }\n",
       "\n",
       "    .dataframe thead th {\n",
       "        text-align: right;\n",
       "    }\n",
       "</style>\n",
       "<table border=\"1\" class=\"dataframe\">\n",
       "  <thead>\n",
       "    <tr style=\"text-align: right;\">\n",
       "      <th></th>\n",
       "      <th>0</th>\n",
       "      <th>Published_Date</th>\n",
       "    </tr>\n",
       "  </thead>\n",
       "  <tbody>\n",
       "    <tr>\n",
       "      <td>0</td>\n",
       "      <td>0</td>\n",
       "      <td>2001-01-01</td>\n",
       "    </tr>\n",
       "    <tr>\n",
       "      <td>1</td>\n",
       "      <td>1</td>\n",
       "      <td>2001-01-02</td>\n",
       "    </tr>\n",
       "    <tr>\n",
       "      <td>2</td>\n",
       "      <td>2</td>\n",
       "      <td>2001-01-03</td>\n",
       "    </tr>\n",
       "    <tr>\n",
       "      <td>3</td>\n",
       "      <td>3</td>\n",
       "      <td>2001-01-04</td>\n",
       "    </tr>\n",
       "    <tr>\n",
       "      <td>4</td>\n",
       "      <td>4</td>\n",
       "      <td>2001-01-05</td>\n",
       "    </tr>\n",
       "  </tbody>\n",
       "</table>\n",
       "</div>"
      ],
      "text/plain": [
       "   0 Published_Date\n",
       "0  0     2001-01-01\n",
       "1  1     2001-01-02\n",
       "2  2     2001-01-03\n",
       "3  3     2001-01-04\n",
       "4  4     2001-01-05"
      ]
     },
     "execution_count": 21,
     "metadata": {},
     "output_type": "execute_result"
    }
   ],
   "source": [
    "df_news.head()"
   ]
  },
  {
   "cell_type": "code",
   "execution_count": 22,
   "metadata": {},
   "outputs": [],
   "source": [
    "l = []\n",
    "for i in dict_news.keys():\n",
    "    l.append(dict_news[i])"
   ]
  },
  {
   "cell_type": "code",
   "execution_count": 23,
   "metadata": {
    "scrolled": true
   },
   "outputs": [
    {
     "data": {
      "text/plain": [
       "'win over cena satisfying but defeating undertaker bigger roman reigns'"
      ]
     },
     "execution_count": 23,
     "metadata": {},
     "output_type": "execute_result"
    }
   ],
   "source": [
    "l[0]"
   ]
  },
  {
   "cell_type": "code",
   "execution_count": 24,
   "metadata": {},
   "outputs": [],
   "source": [
    "df_news['Headline'] = np.array(l)"
   ]
  },
  {
   "cell_type": "code",
   "execution_count": 25,
   "metadata": {},
   "outputs": [
    {
     "data": {
      "text/html": [
       "<div>\n",
       "<style scoped>\n",
       "    .dataframe tbody tr th:only-of-type {\n",
       "        vertical-align: middle;\n",
       "    }\n",
       "\n",
       "    .dataframe tbody tr th {\n",
       "        vertical-align: top;\n",
       "    }\n",
       "\n",
       "    .dataframe thead th {\n",
       "        text-align: right;\n",
       "    }\n",
       "</style>\n",
       "<table border=\"1\" class=\"dataframe\">\n",
       "  <thead>\n",
       "    <tr style=\"text-align: right;\">\n",
       "      <th></th>\n",
       "      <th>0</th>\n",
       "      <th>Published_Date</th>\n",
       "      <th>Headline</th>\n",
       "    </tr>\n",
       "  </thead>\n",
       "  <tbody>\n",
       "    <tr>\n",
       "      <td>0</td>\n",
       "      <td>0</td>\n",
       "      <td>2001-01-01</td>\n",
       "      <td>win over cena satisfying but defeating underta...</td>\n",
       "    </tr>\n",
       "    <tr>\n",
       "      <td>1</td>\n",
       "      <td>1</td>\n",
       "      <td>2001-01-02</td>\n",
       "      <td>. Fissures in Hurriyat over Pak visit. America...</td>\n",
       "    </tr>\n",
       "    <tr>\n",
       "      <td>2</td>\n",
       "      <td>2</td>\n",
       "      <td>2001-01-03</td>\n",
       "      <td>. Think again; Laxman tells Sangh Parivar. Hur...</td>\n",
       "    </tr>\n",
       "    <tr>\n",
       "      <td>3</td>\n",
       "      <td>3</td>\n",
       "      <td>2001-01-04</td>\n",
       "      <td>. Vajpayee gives big push to tech education; R...</td>\n",
       "    </tr>\n",
       "    <tr>\n",
       "      <td>4</td>\n",
       "      <td>4</td>\n",
       "      <td>2001-01-05</td>\n",
       "      <td>. Hawkings' day out. Light combat craft takes ...</td>\n",
       "    </tr>\n",
       "  </tbody>\n",
       "</table>\n",
       "</div>"
      ],
      "text/plain": [
       "   0 Published_Date                                           Headline\n",
       "0  0     2001-01-01  win over cena satisfying but defeating underta...\n",
       "1  1     2001-01-02  . Fissures in Hurriyat over Pak visit. America...\n",
       "2  2     2001-01-03  . Think again; Laxman tells Sangh Parivar. Hur...\n",
       "3  3     2001-01-04  . Vajpayee gives big push to tech education; R...\n",
       "4  4     2001-01-05  . Hawkings' day out. Light combat craft takes ..."
      ]
     },
     "execution_count": 25,
     "metadata": {},
     "output_type": "execute_result"
    }
   ],
   "source": [
    "df_news.head()"
   ]
  },
  {
   "cell_type": "code",
   "execution_count": 26,
   "metadata": {},
   "outputs": [],
   "source": [
    "df_news = df_news.drop(0, axis=1)"
   ]
  },
  {
   "cell_type": "markdown",
   "metadata": {},
   "source": [
    "### Performing Sentiment Analysis on News Dataset"
   ]
  },
  {
   "cell_type": "code",
   "execution_count": 27,
   "metadata": {},
   "outputs": [],
   "source": [
    "polarity = []\n",
    "subjectivity = []\n",
    "tuples = []\n",
    "for i in df_news['Headline'].values:\n",
    "    my_valence = TextBlob(i)\n",
    "    tuples.append(my_valence.sentiment)"
   ]
  },
  {
   "cell_type": "code",
   "execution_count": 28,
   "metadata": {},
   "outputs": [],
   "source": [
    "for i in tuples:\n",
    "    polarity.append(i[0])\n",
    "    subjectivity.append(i[1])"
   ]
  },
  {
   "cell_type": "code",
   "execution_count": 29,
   "metadata": {},
   "outputs": [],
   "source": [
    "df_news['Polarity'] = np.array(polarity)\n",
    "df_news['Subjectivity'] = np.array(subjectivity)"
   ]
  },
  {
   "cell_type": "code",
   "execution_count": 30,
   "metadata": {
    "scrolled": true
   },
   "outputs": [
    {
     "data": {
      "text/html": [
       "<div>\n",
       "<style scoped>\n",
       "    .dataframe tbody tr th:only-of-type {\n",
       "        vertical-align: middle;\n",
       "    }\n",
       "\n",
       "    .dataframe tbody tr th {\n",
       "        vertical-align: top;\n",
       "    }\n",
       "\n",
       "    .dataframe thead th {\n",
       "        text-align: right;\n",
       "    }\n",
       "</style>\n",
       "<table border=\"1\" class=\"dataframe\">\n",
       "  <thead>\n",
       "    <tr style=\"text-align: right;\">\n",
       "      <th></th>\n",
       "      <th>Published_Date</th>\n",
       "      <th>Headline</th>\n",
       "      <th>Polarity</th>\n",
       "      <th>Subjectivity</th>\n",
       "    </tr>\n",
       "  </thead>\n",
       "  <tbody>\n",
       "    <tr>\n",
       "      <td>0</td>\n",
       "      <td>2001-01-01</td>\n",
       "      <td>win over cena satisfying but defeating underta...</td>\n",
       "      <td>0.433333</td>\n",
       "      <td>0.633333</td>\n",
       "    </tr>\n",
       "    <tr>\n",
       "      <td>1</td>\n",
       "      <td>2001-01-02</td>\n",
       "      <td>. Fissures in Hurriyat over Pak visit. America...</td>\n",
       "      <td>0.151333</td>\n",
       "      <td>0.282333</td>\n",
       "    </tr>\n",
       "    <tr>\n",
       "      <td>2</td>\n",
       "      <td>2001-01-03</td>\n",
       "      <td>. Think again; Laxman tells Sangh Parivar. Hur...</td>\n",
       "      <td>0.163636</td>\n",
       "      <td>0.363636</td>\n",
       "    </tr>\n",
       "    <tr>\n",
       "      <td>3</td>\n",
       "      <td>2001-01-04</td>\n",
       "      <td>. Vajpayee gives big push to tech education; R...</td>\n",
       "      <td>0.087961</td>\n",
       "      <td>0.446847</td>\n",
       "    </tr>\n",
       "    <tr>\n",
       "      <td>4</td>\n",
       "      <td>2001-01-05</td>\n",
       "      <td>. Hawkings' day out. Light combat craft takes ...</td>\n",
       "      <td>0.260401</td>\n",
       "      <td>0.473984</td>\n",
       "    </tr>\n",
       "  </tbody>\n",
       "</table>\n",
       "</div>"
      ],
      "text/plain": [
       "  Published_Date                                           Headline  Polarity  \\\n",
       "0     2001-01-01  win over cena satisfying but defeating underta...  0.433333   \n",
       "1     2001-01-02  . Fissures in Hurriyat over Pak visit. America...  0.151333   \n",
       "2     2001-01-03  . Think again; Laxman tells Sangh Parivar. Hur...  0.163636   \n",
       "3     2001-01-04  . Vajpayee gives big push to tech education; R...  0.087961   \n",
       "4     2001-01-05  . Hawkings' day out. Light combat craft takes ...  0.260401   \n",
       "\n",
       "   Subjectivity  \n",
       "0      0.633333  \n",
       "1      0.282333  \n",
       "2      0.363636  \n",
       "3      0.446847  \n",
       "4      0.473984  "
      ]
     },
     "execution_count": 30,
     "metadata": {},
     "output_type": "execute_result"
    }
   ],
   "source": [
    "df_news.head()"
   ]
  },
  {
   "cell_type": "code",
   "execution_count": 31,
   "metadata": {},
   "outputs": [],
   "source": [
    "temp = ['Positive', 'Negative', 'Neutral']\n",
    "temp1 = ['Factual', 'Public']\n",
    "polarity = []\n",
    "subjectivity = []\n",
    "for i in range(len(df_news)):\n",
    "    pol = df_news.iloc[i]['Polarity']\n",
    "    sub = df_news.iloc[i]['Subjectivity']\n",
    "    if pol>=0:\n",
    "        if pol>=0.2:\n",
    "            polarity.append(temp[0])\n",
    "        else:\n",
    "            polarity.append(temp[2])\n",
    "    else:\n",
    "        if pol<=-0.2:\n",
    "            polarity.append(temp[1])\n",
    "        else:\n",
    "            polarity.append(temp[2])\n",
    "    \n",
    "    if sub>=0.4:\n",
    "        subjectivity.append(temp1[1])\n",
    "    else:\n",
    "        subjectivity.append(temp1[0])"
   ]
  },
  {
   "cell_type": "code",
   "execution_count": 32,
   "metadata": {},
   "outputs": [],
   "source": [
    "df_news['Sentiment'] = polarity\n",
    "df_news['Opinion'] = subjectivity"
   ]
  },
  {
   "cell_type": "code",
   "execution_count": 33,
   "metadata": {
    "scrolled": false
   },
   "outputs": [
    {
     "data": {
      "text/html": [
       "<div>\n",
       "<style scoped>\n",
       "    .dataframe tbody tr th:only-of-type {\n",
       "        vertical-align: middle;\n",
       "    }\n",
       "\n",
       "    .dataframe tbody tr th {\n",
       "        vertical-align: top;\n",
       "    }\n",
       "\n",
       "    .dataframe thead th {\n",
       "        text-align: right;\n",
       "    }\n",
       "</style>\n",
       "<table border=\"1\" class=\"dataframe\">\n",
       "  <thead>\n",
       "    <tr style=\"text-align: right;\">\n",
       "      <th></th>\n",
       "      <th>Published_Date</th>\n",
       "      <th>Headline</th>\n",
       "      <th>Polarity</th>\n",
       "      <th>Subjectivity</th>\n",
       "      <th>Sentiment</th>\n",
       "      <th>Opinion</th>\n",
       "    </tr>\n",
       "  </thead>\n",
       "  <tbody>\n",
       "    <tr>\n",
       "      <td>0</td>\n",
       "      <td>2001-01-01</td>\n",
       "      <td>win over cena satisfying but defeating underta...</td>\n",
       "      <td>0.433333</td>\n",
       "      <td>0.633333</td>\n",
       "      <td>Positive</td>\n",
       "      <td>Public</td>\n",
       "    </tr>\n",
       "    <tr>\n",
       "      <td>1</td>\n",
       "      <td>2001-01-02</td>\n",
       "      <td>. Fissures in Hurriyat over Pak visit. America...</td>\n",
       "      <td>0.151333</td>\n",
       "      <td>0.282333</td>\n",
       "      <td>Neutral</td>\n",
       "      <td>Factual</td>\n",
       "    </tr>\n",
       "    <tr>\n",
       "      <td>2</td>\n",
       "      <td>2001-01-03</td>\n",
       "      <td>. Think again; Laxman tells Sangh Parivar. Hur...</td>\n",
       "      <td>0.163636</td>\n",
       "      <td>0.363636</td>\n",
       "      <td>Neutral</td>\n",
       "      <td>Factual</td>\n",
       "    </tr>\n",
       "    <tr>\n",
       "      <td>3</td>\n",
       "      <td>2001-01-04</td>\n",
       "      <td>. Vajpayee gives big push to tech education; R...</td>\n",
       "      <td>0.087961</td>\n",
       "      <td>0.446847</td>\n",
       "      <td>Neutral</td>\n",
       "      <td>Public</td>\n",
       "    </tr>\n",
       "    <tr>\n",
       "      <td>4</td>\n",
       "      <td>2001-01-05</td>\n",
       "      <td>. Hawkings' day out. Light combat craft takes ...</td>\n",
       "      <td>0.260401</td>\n",
       "      <td>0.473984</td>\n",
       "      <td>Positive</td>\n",
       "      <td>Public</td>\n",
       "    </tr>\n",
       "  </tbody>\n",
       "</table>\n",
       "</div>"
      ],
      "text/plain": [
       "  Published_Date                                           Headline  Polarity  \\\n",
       "0     2001-01-01  win over cena satisfying but defeating underta...  0.433333   \n",
       "1     2001-01-02  . Fissures in Hurriyat over Pak visit. America...  0.151333   \n",
       "2     2001-01-03  . Think again; Laxman tells Sangh Parivar. Hur...  0.163636   \n",
       "3     2001-01-04  . Vajpayee gives big push to tech education; R...  0.087961   \n",
       "4     2001-01-05  . Hawkings' day out. Light combat craft takes ...  0.260401   \n",
       "\n",
       "   Subjectivity Sentiment  Opinion  \n",
       "0      0.633333  Positive   Public  \n",
       "1      0.282333   Neutral  Factual  \n",
       "2      0.363636   Neutral  Factual  \n",
       "3      0.446847   Neutral   Public  \n",
       "4      0.473984  Positive   Public  "
      ]
     },
     "execution_count": 33,
     "metadata": {},
     "output_type": "execute_result"
    }
   ],
   "source": [
    "df_news.head()"
   ]
  },
  {
   "cell_type": "code",
   "execution_count": 34,
   "metadata": {},
   "outputs": [
    {
     "data": {
      "text/plain": [
       "7079"
      ]
     },
     "execution_count": 34,
     "metadata": {},
     "output_type": "execute_result"
    }
   ],
   "source": [
    "len(df_news)"
   ]
  },
  {
   "cell_type": "markdown",
   "metadata": {},
   "source": [
    "#### Let's have a look at how Sentiments and Opinions are distributed"
   ]
  },
  {
   "cell_type": "code",
   "execution_count": 35,
   "metadata": {},
   "outputs": [
    {
     "data": {
      "image/png": "[encoded data removed]",
      "text/plain": [
       "<Figure size 432x288 with 1 Axes>"
      ]
     },
     "metadata": {
      "needs_background": "light"
     },
     "output_type": "display_data"
    }
   ],
   "source": [
    "plt.figure(figsize=(6,4))\n",
    "df_news['Subjectivity'].hist()\n",
    "plt.show()"
   ]
  },
  {
   "cell_type": "code",
   "execution_count": 36,
   "metadata": {},
   "outputs": [
    {
     "data": {
      "image/png": "[encoded data removed]",
      "text/plain": [
       "<Figure size 432x288 with 1 Axes>"
      ]
     },
     "metadata": {
      "needs_background": "light"
     },
     "output_type": "display_data"
    }
   ],
   "source": [
    "plt.figure(figsize=(6,4))\n",
    "df_news['Polarity'].hist()\n",
    "plt.show()"
   ]
  },
  {
   "cell_type": "code",
   "execution_count": 37,
   "metadata": {},
   "outputs": [
    {
     "data": {
      "text/plain": [
       "<matplotlib.axes._subplots.AxesSubplot at 0x28181e1f648>"
      ]
     },
     "execution_count": 37,
     "metadata": {},
     "output_type": "execute_result"
    },
    {
     "data": {
      "image/png": "[encoded data removed]",
      "text/plain": [
       "<Figure size 432x288 with 1 Axes>"
      ]
     },
     "metadata": {
      "needs_background": "light"
     },
     "output_type": "display_data"
    }
   ],
   "source": [
    "sns.countplot(df_news['Opinion'])"
   ]
  },
  {
   "cell_type": "markdown",
   "metadata": {},
   "source": [
    "## Stocks Data: Pre-processing and EDA"
   ]
  },
  {
   "cell_type": "code",
   "execution_count": 38,
   "metadata": {},
   "outputs": [],
   "source": [
    "stocks = pd.read_csv('Stocks.csv')"
   ]
  },
  {
   "cell_type": "code",
   "execution_count": 39,
   "metadata": {},
   "outputs": [
    {
     "data": {
      "text/html": [
       "<div>\n",
       "<style scoped>\n",
       "    .dataframe tbody tr th:only-of-type {\n",
       "        vertical-align: middle;\n",
       "    }\n",
       "\n",
       "    .dataframe tbody tr th {\n",
       "        vertical-align: top;\n",
       "    }\n",
       "\n",
       "    .dataframe thead th {\n",
       "        text-align: right;\n",
       "    }\n",
       "</style>\n",
       "<table border=\"1\" class=\"dataframe\">\n",
       "  <thead>\n",
       "    <tr style=\"text-align: right;\">\n",
       "      <th></th>\n",
       "      <th>Date</th>\n",
       "      <th>Open</th>\n",
       "      <th>High</th>\n",
       "      <th>Low</th>\n",
       "      <th>Close</th>\n",
       "      <th>Adj Close</th>\n",
       "      <th>Volume</th>\n",
       "    </tr>\n",
       "  </thead>\n",
       "  <tbody>\n",
       "    <tr>\n",
       "      <td>0</td>\n",
       "      <td>2019-10-20</td>\n",
       "      <td>2984.75</td>\n",
       "      <td>2991.00</td>\n",
       "      <td>2983.75</td>\n",
       "      <td>2990.25</td>\n",
       "      <td>2990.25</td>\n",
       "      <td>1093450.0</td>\n",
       "    </tr>\n",
       "    <tr>\n",
       "      <td>1</td>\n",
       "      <td>2019-10-21</td>\n",
       "      <td>2984.75</td>\n",
       "      <td>3007.50</td>\n",
       "      <td>2983.75</td>\n",
       "      <td>3006.50</td>\n",
       "      <td>3006.50</td>\n",
       "      <td>886557.0</td>\n",
       "    </tr>\n",
       "    <tr>\n",
       "      <td>2</td>\n",
       "      <td>2019-10-22</td>\n",
       "      <td>3006.50</td>\n",
       "      <td>3014.25</td>\n",
       "      <td>2988.25</td>\n",
       "      <td>2994.50</td>\n",
       "      <td>2994.50</td>\n",
       "      <td>1125601.0</td>\n",
       "    </tr>\n",
       "    <tr>\n",
       "      <td>3</td>\n",
       "      <td>2019-10-23</td>\n",
       "      <td>2992.00</td>\n",
       "      <td>3006.00</td>\n",
       "      <td>2982.00</td>\n",
       "      <td>3005.75</td>\n",
       "      <td>3005.75</td>\n",
       "      <td>1055958.0</td>\n",
       "    </tr>\n",
       "    <tr>\n",
       "      <td>4</td>\n",
       "      <td>2019-10-24</td>\n",
       "      <td>3006.00</td>\n",
       "      <td>3015.25</td>\n",
       "      <td>2998.75</td>\n",
       "      <td>3004.25</td>\n",
       "      <td>3004.25</td>\n",
       "      <td>1061278.0</td>\n",
       "    </tr>\n",
       "  </tbody>\n",
       "</table>\n",
       "</div>"
      ],
      "text/plain": [
       "         Date     Open     High      Low    Close  Adj Close     Volume\n",
       "0  2019-10-20  2984.75  2991.00  2983.75  2990.25    2990.25  1093450.0\n",
       "1  2019-10-21  2984.75  3007.50  2983.75  3006.50    3006.50   886557.0\n",
       "2  2019-10-22  3006.50  3014.25  2988.25  2994.50    2994.50  1125601.0\n",
       "3  2019-10-23  2992.00  3006.00  2982.00  3005.75    3005.75  1055958.0\n",
       "4  2019-10-24  3006.00  3015.25  2998.75  3004.25    3004.25  1061278.0"
      ]
     },
     "execution_count": 39,
     "metadata": {},
     "output_type": "execute_result"
    }
   ],
   "source": [
    "stocks.head()"
   ]
  },
  {
   "cell_type": "code",
   "execution_count": 40,
   "metadata": {},
   "outputs": [
    {
     "data": {
      "text/plain": [
       "305"
      ]
     },
     "execution_count": 40,
     "metadata": {},
     "output_type": "execute_result"
    }
   ],
   "source": [
    "len(stocks)"
   ]
  },
  {
   "cell_type": "code",
   "execution_count": 41,
   "metadata": {},
   "outputs": [
    {
     "name": "stdout",
     "output_type": "stream",
     "text": [
      "<class 'pandas.core.frame.DataFrame'>\n",
      "RangeIndex: 305 entries, 0 to 304\n",
      "Data columns (total 7 columns):\n",
      "Date         305 non-null object\n",
      "Open         295 non-null float64\n",
      "High         295 non-null float64\n",
      "Low          295 non-null float64\n",
      "Close        295 non-null float64\n",
      "Adj Close    295 non-null float64\n",
      "Volume       295 non-null float64\n",
      "dtypes: float64(6), object(1)\n",
      "memory usage: 16.8+ KB\n"
     ]
    }
   ],
   "source": [
    "stocks.info()"
   ]
  },
  {
   "cell_type": "code",
   "execution_count": 42,
   "metadata": {},
   "outputs": [
    {
     "data": {
      "text/html": [
       "<div>\n",
       "<style scoped>\n",
       "    .dataframe tbody tr th:only-of-type {\n",
       "        vertical-align: middle;\n",
       "    }\n",
       "\n",
       "    .dataframe tbody tr th {\n",
       "        vertical-align: top;\n",
       "    }\n",
       "\n",
       "    .dataframe thead th {\n",
       "        text-align: right;\n",
       "    }\n",
       "</style>\n",
       "<table border=\"1\" class=\"dataframe\">\n",
       "  <thead>\n",
       "    <tr style=\"text-align: right;\">\n",
       "      <th></th>\n",
       "      <th>Open</th>\n",
       "      <th>High</th>\n",
       "      <th>Low</th>\n",
       "      <th>Close</th>\n",
       "      <th>Adj Close</th>\n",
       "      <th>Volume</th>\n",
       "    </tr>\n",
       "  </thead>\n",
       "  <tbody>\n",
       "    <tr>\n",
       "      <td>count</td>\n",
       "      <td>295.000000</td>\n",
       "      <td>295.000000</td>\n",
       "      <td>295.000000</td>\n",
       "      <td>295.000000</td>\n",
       "      <td>295.000000</td>\n",
       "      <td>2.950000e+02</td>\n",
       "    </tr>\n",
       "    <tr>\n",
       "      <td>mean</td>\n",
       "      <td>3110.983051</td>\n",
       "      <td>3142.217017</td>\n",
       "      <td>3080.672034</td>\n",
       "      <td>3115.013593</td>\n",
       "      <td>3115.013593</td>\n",
       "      <td>1.767054e+06</td>\n",
       "    </tr>\n",
       "    <tr>\n",
       "      <td>std</td>\n",
       "      <td>261.102167</td>\n",
       "      <td>242.957545</td>\n",
       "      <td>274.387133</td>\n",
       "      <td>258.150005</td>\n",
       "      <td>258.150005</td>\n",
       "      <td>9.532702e+05</td>\n",
       "    </tr>\n",
       "    <tr>\n",
       "      <td>min</td>\n",
       "      <td>2220.250000</td>\n",
       "      <td>2229.000000</td>\n",
       "      <td>2174.000000</td>\n",
       "      <td>2203.250000</td>\n",
       "      <td>2203.250000</td>\n",
       "      <td>6.439100e+04</td>\n",
       "    </tr>\n",
       "    <tr>\n",
       "      <td>25%</td>\n",
       "      <td>2992.375000</td>\n",
       "      <td>3022.875000</td>\n",
       "      <td>2974.750000</td>\n",
       "      <td>3003.500000</td>\n",
       "      <td>3003.500000</td>\n",
       "      <td>1.225104e+06</td>\n",
       "    </tr>\n",
       "    <tr>\n",
       "      <td>50%</td>\n",
       "      <td>3146.250000</td>\n",
       "      <td>3177.250000</td>\n",
       "      <td>3125.500000</td>\n",
       "      <td>3146.750000</td>\n",
       "      <td>3146.750000</td>\n",
       "      <td>1.567224e+06</td>\n",
       "    </tr>\n",
       "    <tr>\n",
       "      <td>75%</td>\n",
       "      <td>3300.500000</td>\n",
       "      <td>3318.875000</td>\n",
       "      <td>3279.125000</td>\n",
       "      <td>3299.375000</td>\n",
       "      <td>3299.375000</td>\n",
       "      <td>2.083052e+06</td>\n",
       "    </tr>\n",
       "    <tr>\n",
       "      <td>max</td>\n",
       "      <td>3578.750000</td>\n",
       "      <td>3587.000000</td>\n",
       "      <td>3526.250000</td>\n",
       "      <td>3579.250000</td>\n",
       "      <td>3579.250000</td>\n",
       "      <td>6.659472e+06</td>\n",
       "    </tr>\n",
       "  </tbody>\n",
       "</table>\n",
       "</div>"
      ],
      "text/plain": [
       "              Open         High          Low        Close    Adj Close  \\\n",
       "count   295.000000   295.000000   295.000000   295.000000   295.000000   \n",
       "mean   3110.983051  3142.217017  3080.672034  3115.013593  3115.013593   \n",
       "std     261.102167   242.957545   274.387133   258.150005   258.150005   \n",
       "min    2220.250000  2229.000000  2174.000000  2203.250000  2203.250000   \n",
       "25%    2992.375000  3022.875000  2974.750000  3003.500000  3003.500000   \n",
       "50%    3146.250000  3177.250000  3125.500000  3146.750000  3146.750000   \n",
       "75%    3300.500000  3318.875000  3279.125000  3299.375000  3299.375000   \n",
       "max    3578.750000  3587.000000  3526.250000  3579.250000  3579.250000   \n",
       "\n",
       "             Volume  \n",
       "count  2.950000e+02  \n",
       "mean   1.767054e+06  \n",
       "std    9.532702e+05  \n",
       "min    6.439100e+04  \n",
       "25%    1.225104e+06  \n",
       "50%    1.567224e+06  \n",
       "75%    2.083052e+06  \n",
       "max    6.659472e+06  "
      ]
     },
     "execution_count": 42,
     "metadata": {},
     "output_type": "execute_result"
    }
   ],
   "source": [
    "stocks.describe()"
   ]
  },
  {
   "cell_type": "code",
   "execution_count": 43,
   "metadata": {},
   "outputs": [],
   "source": [
    "stocks['HL_pct']=((stocks['High']-stocks['Low'])/stocks['Low'])*100\n",
    "stocks['PCT_change']=((stocks['Close']-stocks['Open'])/stocks['Open'])*100"
   ]
  },
  {
   "cell_type": "code",
   "execution_count": 44,
   "metadata": {},
   "outputs": [],
   "source": [
    "stocks = stocks.drop(['Open','High','Close','Low'], axis=1)"
   ]
  },
  {
   "cell_type": "code",
   "execution_count": 45,
   "metadata": {
    "scrolled": true
   },
   "outputs": [
    {
     "data": {
      "text/html": [
       "<div>\n",
       "<style scoped>\n",
       "    .dataframe tbody tr th:only-of-type {\n",
       "        vertical-align: middle;\n",
       "    }\n",
       "\n",
       "    .dataframe tbody tr th {\n",
       "        vertical-align: top;\n",
       "    }\n",
       "\n",
       "    .dataframe thead th {\n",
       "        text-align: right;\n",
       "    }\n",
       "</style>\n",
       "<table border=\"1\" class=\"dataframe\">\n",
       "  <thead>\n",
       "    <tr style=\"text-align: right;\">\n",
       "      <th></th>\n",
       "      <th>Date</th>\n",
       "      <th>Adj Close</th>\n",
       "      <th>Volume</th>\n",
       "      <th>HL_pct</th>\n",
       "      <th>PCT_change</th>\n",
       "    </tr>\n",
       "  </thead>\n",
       "  <tbody>\n",
       "    <tr>\n",
       "      <td>0</td>\n",
       "      <td>2019-10-20</td>\n",
       "      <td>2990.25</td>\n",
       "      <td>1093450.0</td>\n",
       "      <td>0.242983</td>\n",
       "      <td>0.184270</td>\n",
       "    </tr>\n",
       "    <tr>\n",
       "      <td>1</td>\n",
       "      <td>2019-10-21</td>\n",
       "      <td>3006.50</td>\n",
       "      <td>886557.0</td>\n",
       "      <td>0.795978</td>\n",
       "      <td>0.728704</td>\n",
       "    </tr>\n",
       "    <tr>\n",
       "      <td>2</td>\n",
       "      <td>2019-10-22</td>\n",
       "      <td>2994.50</td>\n",
       "      <td>1125601.0</td>\n",
       "      <td>0.870074</td>\n",
       "      <td>-0.399135</td>\n",
       "    </tr>\n",
       "    <tr>\n",
       "      <td>3</td>\n",
       "      <td>2019-10-23</td>\n",
       "      <td>3005.75</td>\n",
       "      <td>1055958.0</td>\n",
       "      <td>0.804829</td>\n",
       "      <td>0.459559</td>\n",
       "    </tr>\n",
       "    <tr>\n",
       "      <td>4</td>\n",
       "      <td>2019-10-24</td>\n",
       "      <td>3004.25</td>\n",
       "      <td>1061278.0</td>\n",
       "      <td>0.550229</td>\n",
       "      <td>-0.058217</td>\n",
       "    </tr>\n",
       "  </tbody>\n",
       "</table>\n",
       "</div>"
      ],
      "text/plain": [
       "         Date  Adj Close     Volume    HL_pct  PCT_change\n",
       "0  2019-10-20    2990.25  1093450.0  0.242983    0.184270\n",
       "1  2019-10-21    3006.50   886557.0  0.795978    0.728704\n",
       "2  2019-10-22    2994.50  1125601.0  0.870074   -0.399135\n",
       "3  2019-10-23    3005.75  1055958.0  0.804829    0.459559\n",
       "4  2019-10-24    3004.25  1061278.0  0.550229   -0.058217"
      ]
     },
     "execution_count": 45,
     "metadata": {},
     "output_type": "execute_result"
    }
   ],
   "source": [
    "stocks.head()"
   ]
  },
  {
   "cell_type": "code",
   "execution_count": 46,
   "metadata": {},
   "outputs": [],
   "source": [
    "stocks['Date'] = pd.to_datetime(stocks['Date'])"
   ]
  },
  {
   "cell_type": "code",
   "execution_count": 47,
   "metadata": {
    "scrolled": true
   },
   "outputs": [
    {
     "data": {
      "text/html": [
       "<div>\n",
       "<style scoped>\n",
       "    .dataframe tbody tr th:only-of-type {\n",
       "        vertical-align: middle;\n",
       "    }\n",
       "\n",
       "    .dataframe tbody tr th {\n",
       "        vertical-align: top;\n",
       "    }\n",
       "\n",
       "    .dataframe thead th {\n",
       "        text-align: right;\n",
       "    }\n",
       "</style>\n",
       "<table border=\"1\" class=\"dataframe\">\n",
       "  <thead>\n",
       "    <tr style=\"text-align: right;\">\n",
       "      <th></th>\n",
       "      <th>Date</th>\n",
       "      <th>Adj Close</th>\n",
       "      <th>Volume</th>\n",
       "      <th>HL_pct</th>\n",
       "      <th>PCT_change</th>\n",
       "    </tr>\n",
       "  </thead>\n",
       "  <tbody>\n",
       "    <tr>\n",
       "      <td>0</td>\n",
       "      <td>2019-10-20</td>\n",
       "      <td>2990.25</td>\n",
       "      <td>1093450.0</td>\n",
       "      <td>0.242983</td>\n",
       "      <td>0.184270</td>\n",
       "    </tr>\n",
       "    <tr>\n",
       "      <td>1</td>\n",
       "      <td>2019-10-21</td>\n",
       "      <td>3006.50</td>\n",
       "      <td>886557.0</td>\n",
       "      <td>0.795978</td>\n",
       "      <td>0.728704</td>\n",
       "    </tr>\n",
       "    <tr>\n",
       "      <td>2</td>\n",
       "      <td>2019-10-22</td>\n",
       "      <td>2994.50</td>\n",
       "      <td>1125601.0</td>\n",
       "      <td>0.870074</td>\n",
       "      <td>-0.399135</td>\n",
       "    </tr>\n",
       "    <tr>\n",
       "      <td>3</td>\n",
       "      <td>2019-10-23</td>\n",
       "      <td>3005.75</td>\n",
       "      <td>1055958.0</td>\n",
       "      <td>0.804829</td>\n",
       "      <td>0.459559</td>\n",
       "    </tr>\n",
       "    <tr>\n",
       "      <td>4</td>\n",
       "      <td>2019-10-24</td>\n",
       "      <td>3004.25</td>\n",
       "      <td>1061278.0</td>\n",
       "      <td>0.550229</td>\n",
       "      <td>-0.058217</td>\n",
       "    </tr>\n",
       "  </tbody>\n",
       "</table>\n",
       "</div>"
      ],
      "text/plain": [
       "        Date  Adj Close     Volume    HL_pct  PCT_change\n",
       "0 2019-10-20    2990.25  1093450.0  0.242983    0.184270\n",
       "1 2019-10-21    3006.50   886557.0  0.795978    0.728704\n",
       "2 2019-10-22    2994.50  1125601.0  0.870074   -0.399135\n",
       "3 2019-10-23    3005.75  1055958.0  0.804829    0.459559\n",
       "4 2019-10-24    3004.25  1061278.0  0.550229   -0.058217"
      ]
     },
     "execution_count": 47,
     "metadata": {},
     "output_type": "execute_result"
    }
   ],
   "source": [
    "stocks.head()"
   ]
  },
  {
   "cell_type": "code",
   "execution_count": 48,
   "metadata": {},
   "outputs": [],
   "source": [
    "df_news.columns = ['Date', 'Headline', 'Polarity', 'Subjectivity', 'Sentiment', 'Opinion']"
   ]
  },
  {
   "cell_type": "markdown",
   "metadata": {},
   "source": [
    "### Merging the News and Stocks Datasets on the basis of Dates"
   ]
  },
  {
   "cell_type": "code",
   "execution_count": 49,
   "metadata": {},
   "outputs": [],
   "source": [
    "merge_data = df_news.merge(stocks, how='inner', on='Date', left_index = True)"
   ]
  },
  {
   "cell_type": "code",
   "execution_count": 50,
   "metadata": {},
   "outputs": [
    {
     "data": {
      "text/html": [
       "<div>\n",
       "<style scoped>\n",
       "    .dataframe tbody tr th:only-of-type {\n",
       "        vertical-align: middle;\n",
       "    }\n",
       "\n",
       "    .dataframe tbody tr th {\n",
       "        vertical-align: top;\n",
       "    }\n",
       "\n",
       "    .dataframe thead th {\n",
       "        text-align: right;\n",
       "    }\n",
       "</style>\n",
       "<table border=\"1\" class=\"dataframe\">\n",
       "  <thead>\n",
       "    <tr style=\"text-align: right;\">\n",
       "      <th></th>\n",
       "      <th>Date</th>\n",
       "      <th>Headline</th>\n",
       "      <th>Polarity</th>\n",
       "      <th>Subjectivity</th>\n",
       "      <th>Sentiment</th>\n",
       "      <th>Opinion</th>\n",
       "      <th>Adj Close</th>\n",
       "      <th>Volume</th>\n",
       "      <th>HL_pct</th>\n",
       "      <th>PCT_change</th>\n",
       "    </tr>\n",
       "  </thead>\n",
       "  <tbody>\n",
       "    <tr>\n",
       "      <td>0</td>\n",
       "      <td>2019-10-20</td>\n",
       "      <td>. Makeup Removers: Make it a habit for a healt...</td>\n",
       "      <td>0.052337</td>\n",
       "      <td>0.388658</td>\n",
       "      <td>Neutral</td>\n",
       "      <td>Factual</td>\n",
       "      <td>2990.25</td>\n",
       "      <td>1093450.0</td>\n",
       "      <td>0.242983</td>\n",
       "      <td>0.184270</td>\n",
       "    </tr>\n",
       "    <tr>\n",
       "      <td>1</td>\n",
       "      <td>2019-10-21</td>\n",
       "      <td>. from kalki koechlin to amy jackson and karee...</td>\n",
       "      <td>0.066256</td>\n",
       "      <td>0.385804</td>\n",
       "      <td>Neutral</td>\n",
       "      <td>Factual</td>\n",
       "      <td>3006.50</td>\n",
       "      <td>886557.0</td>\n",
       "      <td>0.795978</td>\n",
       "      <td>0.728704</td>\n",
       "    </tr>\n",
       "    <tr>\n",
       "      <td>2</td>\n",
       "      <td>2019-10-22</td>\n",
       "      <td>. When I compose a song; I don't think whether...</td>\n",
       "      <td>0.044899</td>\n",
       "      <td>0.403248</td>\n",
       "      <td>Neutral</td>\n",
       "      <td>Public</td>\n",
       "      <td>2994.50</td>\n",
       "      <td>1125601.0</td>\n",
       "      <td>0.870074</td>\n",
       "      <td>-0.399135</td>\n",
       "    </tr>\n",
       "    <tr>\n",
       "      <td>3</td>\n",
       "      <td>2019-10-23</td>\n",
       "      <td>. Need fitness motivation? You have to attend ...</td>\n",
       "      <td>0.053053</td>\n",
       "      <td>0.400712</td>\n",
       "      <td>Neutral</td>\n",
       "      <td>Public</td>\n",
       "      <td>3005.75</td>\n",
       "      <td>1055958.0</td>\n",
       "      <td>0.804829</td>\n",
       "      <td>0.459559</td>\n",
       "    </tr>\n",
       "    <tr>\n",
       "      <td>4</td>\n",
       "      <td>2019-10-24</td>\n",
       "      <td>. Now; recognition by Punjab government must f...</td>\n",
       "      <td>0.078351</td>\n",
       "      <td>0.437144</td>\n",
       "      <td>Neutral</td>\n",
       "      <td>Public</td>\n",
       "      <td>3004.25</td>\n",
       "      <td>1061278.0</td>\n",
       "      <td>0.550229</td>\n",
       "      <td>-0.058217</td>\n",
       "    </tr>\n",
       "  </tbody>\n",
       "</table>\n",
       "</div>"
      ],
      "text/plain": [
       "        Date                                           Headline  Polarity  \\\n",
       "0 2019-10-20  . Makeup Removers: Make it a habit for a healt...  0.052337   \n",
       "1 2019-10-21  . from kalki koechlin to amy jackson and karee...  0.066256   \n",
       "2 2019-10-22  . When I compose a song; I don't think whether...  0.044899   \n",
       "3 2019-10-23  . Need fitness motivation? You have to attend ...  0.053053   \n",
       "4 2019-10-24  . Now; recognition by Punjab government must f...  0.078351   \n",
       "\n",
       "   Subjectivity Sentiment  Opinion  Adj Close     Volume    HL_pct  PCT_change  \n",
       "0      0.388658   Neutral  Factual    2990.25  1093450.0  0.242983    0.184270  \n",
       "1      0.385804   Neutral  Factual    3006.50   886557.0  0.795978    0.728704  \n",
       "2      0.403248   Neutral   Public    2994.50  1125601.0  0.870074   -0.399135  \n",
       "3      0.400712   Neutral   Public    3005.75  1055958.0  0.804829    0.459559  \n",
       "4      0.437144   Neutral   Public    3004.25  1061278.0  0.550229   -0.058217  "
      ]
     },
     "execution_count": 50,
     "metadata": {},
     "output_type": "execute_result"
    }
   ],
   "source": [
    "merge_data.head()"
   ]
  },
  {
   "cell_type": "code",
   "execution_count": 51,
   "metadata": {},
   "outputs": [],
   "source": [
    "merge_data = merge_data.reset_index()"
   ]
  },
  {
   "cell_type": "code",
   "execution_count": 52,
   "metadata": {},
   "outputs": [
    {
     "data": {
      "text/html": [
       "<div>\n",
       "<style scoped>\n",
       "    .dataframe tbody tr th:only-of-type {\n",
       "        vertical-align: middle;\n",
       "    }\n",
       "\n",
       "    .dataframe tbody tr th {\n",
       "        vertical-align: top;\n",
       "    }\n",
       "\n",
       "    .dataframe thead th {\n",
       "        text-align: right;\n",
       "    }\n",
       "</style>\n",
       "<table border=\"1\" class=\"dataframe\">\n",
       "  <thead>\n",
       "    <tr style=\"text-align: right;\">\n",
       "      <th></th>\n",
       "      <th>index</th>\n",
       "      <th>Date</th>\n",
       "      <th>Headline</th>\n",
       "      <th>Polarity</th>\n",
       "      <th>Subjectivity</th>\n",
       "      <th>Sentiment</th>\n",
       "      <th>Opinion</th>\n",
       "      <th>Adj Close</th>\n",
       "      <th>Volume</th>\n",
       "      <th>HL_pct</th>\n",
       "      <th>PCT_change</th>\n",
       "    </tr>\n",
       "  </thead>\n",
       "  <tbody>\n",
       "    <tr>\n",
       "      <td>0</td>\n",
       "      <td>0</td>\n",
       "      <td>2019-10-20</td>\n",
       "      <td>. Makeup Removers: Make it a habit for a healt...</td>\n",
       "      <td>0.052337</td>\n",
       "      <td>0.388658</td>\n",
       "      <td>Neutral</td>\n",
       "      <td>Factual</td>\n",
       "      <td>2990.25</td>\n",
       "      <td>1093450.0</td>\n",
       "      <td>0.242983</td>\n",
       "      <td>0.184270</td>\n",
       "    </tr>\n",
       "    <tr>\n",
       "      <td>1</td>\n",
       "      <td>1</td>\n",
       "      <td>2019-10-21</td>\n",
       "      <td>. from kalki koechlin to amy jackson and karee...</td>\n",
       "      <td>0.066256</td>\n",
       "      <td>0.385804</td>\n",
       "      <td>Neutral</td>\n",
       "      <td>Factual</td>\n",
       "      <td>3006.50</td>\n",
       "      <td>886557.0</td>\n",
       "      <td>0.795978</td>\n",
       "      <td>0.728704</td>\n",
       "    </tr>\n",
       "    <tr>\n",
       "      <td>2</td>\n",
       "      <td>2</td>\n",
       "      <td>2019-10-22</td>\n",
       "      <td>. When I compose a song; I don't think whether...</td>\n",
       "      <td>0.044899</td>\n",
       "      <td>0.403248</td>\n",
       "      <td>Neutral</td>\n",
       "      <td>Public</td>\n",
       "      <td>2994.50</td>\n",
       "      <td>1125601.0</td>\n",
       "      <td>0.870074</td>\n",
       "      <td>-0.399135</td>\n",
       "    </tr>\n",
       "    <tr>\n",
       "      <td>3</td>\n",
       "      <td>3</td>\n",
       "      <td>2019-10-23</td>\n",
       "      <td>. Need fitness motivation? You have to attend ...</td>\n",
       "      <td>0.053053</td>\n",
       "      <td>0.400712</td>\n",
       "      <td>Neutral</td>\n",
       "      <td>Public</td>\n",
       "      <td>3005.75</td>\n",
       "      <td>1055958.0</td>\n",
       "      <td>0.804829</td>\n",
       "      <td>0.459559</td>\n",
       "    </tr>\n",
       "    <tr>\n",
       "      <td>4</td>\n",
       "      <td>4</td>\n",
       "      <td>2019-10-24</td>\n",
       "      <td>. Now; recognition by Punjab government must f...</td>\n",
       "      <td>0.078351</td>\n",
       "      <td>0.437144</td>\n",
       "      <td>Neutral</td>\n",
       "      <td>Public</td>\n",
       "      <td>3004.25</td>\n",
       "      <td>1061278.0</td>\n",
       "      <td>0.550229</td>\n",
       "      <td>-0.058217</td>\n",
       "    </tr>\n",
       "  </tbody>\n",
       "</table>\n",
       "</div>"
      ],
      "text/plain": [
       "   index       Date                                           Headline  \\\n",
       "0      0 2019-10-20  . Makeup Removers: Make it a habit for a healt...   \n",
       "1      1 2019-10-21  . from kalki koechlin to amy jackson and karee...   \n",
       "2      2 2019-10-22  . When I compose a song; I don't think whether...   \n",
       "3      3 2019-10-23  . Need fitness motivation? You have to attend ...   \n",
       "4      4 2019-10-24  . Now; recognition by Punjab government must f...   \n",
       "\n",
       "   Polarity  Subjectivity Sentiment  Opinion  Adj Close     Volume    HL_pct  \\\n",
       "0  0.052337      0.388658   Neutral  Factual    2990.25  1093450.0  0.242983   \n",
       "1  0.066256      0.385804   Neutral  Factual    3006.50   886557.0  0.795978   \n",
       "2  0.044899      0.403248   Neutral   Public    2994.50  1125601.0  0.870074   \n",
       "3  0.053053      0.400712   Neutral   Public    3005.75  1055958.0  0.804829   \n",
       "4  0.078351      0.437144   Neutral   Public    3004.25  1061278.0  0.550229   \n",
       "\n",
       "   PCT_change  \n",
       "0    0.184270  \n",
       "1    0.728704  \n",
       "2   -0.399135  \n",
       "3    0.459559  \n",
       "4   -0.058217  "
      ]
     },
     "execution_count": 52,
     "metadata": {},
     "output_type": "execute_result"
    }
   ],
   "source": [
    "merge_data.head()"
   ]
  },
  {
   "cell_type": "code",
   "execution_count": 53,
   "metadata": {},
   "outputs": [
    {
     "name": "stdout",
     "output_type": "stream",
     "text": [
      "<class 'pandas.core.frame.DataFrame'>\n",
      "RangeIndex: 211 entries, 0 to 210\n",
      "Data columns (total 11 columns):\n",
      "index           211 non-null int64\n",
      "Date            211 non-null datetime64[ns]\n",
      "Headline        211 non-null object\n",
      "Polarity        211 non-null float64\n",
      "Subjectivity    211 non-null float64\n",
      "Sentiment       211 non-null object\n",
      "Opinion         211 non-null object\n",
      "Adj Close       208 non-null float64\n",
      "Volume          208 non-null float64\n",
      "HL_pct          208 non-null float64\n",
      "PCT_change      208 non-null float64\n",
      "dtypes: datetime64[ns](1), float64(6), int64(1), object(3)\n",
      "memory usage: 18.3+ KB\n"
     ]
    }
   ],
   "source": [
    "merge_data.info()"
   ]
  },
  {
   "cell_type": "code",
   "execution_count": 54,
   "metadata": {},
   "outputs": [],
   "source": [
    "\n",
    "merge_data = merge_data.drop(0)"
   ]
  },
  {
   "cell_type": "code",
   "execution_count": 55,
   "metadata": {},
   "outputs": [],
   "source": [
    "merge_data = merge_data[merge_data['Adj Close'].notna()]"
   ]
  },
  {
   "cell_type": "code",
   "execution_count": 56,
   "metadata": {},
   "outputs": [
    {
     "name": "stdout",
     "output_type": "stream",
     "text": [
      "<class 'pandas.core.frame.DataFrame'>\n",
      "Int64Index: 207 entries, 1 to 210\n",
      "Data columns (total 11 columns):\n",
      "index           207 non-null int64\n",
      "Date            207 non-null datetime64[ns]\n",
      "Headline        207 non-null object\n",
      "Polarity        207 non-null float64\n",
      "Subjectivity    207 non-null float64\n",
      "Sentiment       207 non-null object\n",
      "Opinion         207 non-null object\n",
      "Adj Close       207 non-null float64\n",
      "Volume          207 non-null float64\n",
      "HL_pct          207 non-null float64\n",
      "PCT_change      207 non-null float64\n",
      "dtypes: datetime64[ns](1), float64(6), int64(1), object(3)\n",
      "memory usage: 19.4+ KB\n"
     ]
    }
   ],
   "source": [
    "\n",
    "merge_data.info()"
   ]
  },
  {
   "cell_type": "code",
   "execution_count": 57,
   "metadata": {},
   "outputs": [
    {
     "data": {
      "text/html": [
       "<div>\n",
       "<style scoped>\n",
       "    .dataframe tbody tr th:only-of-type {\n",
       "        vertical-align: middle;\n",
       "    }\n",
       "\n",
       "    .dataframe tbody tr th {\n",
       "        vertical-align: top;\n",
       "    }\n",
       "\n",
       "    .dataframe thead th {\n",
       "        text-align: right;\n",
       "    }\n",
       "</style>\n",
       "<table border=\"1\" class=\"dataframe\">\n",
       "  <thead>\n",
       "    <tr style=\"text-align: right;\">\n",
       "      <th></th>\n",
       "      <th>level_0</th>\n",
       "      <th>index</th>\n",
       "      <th>Date</th>\n",
       "      <th>Headline</th>\n",
       "      <th>Polarity</th>\n",
       "      <th>Subjectivity</th>\n",
       "      <th>Sentiment</th>\n",
       "      <th>Opinion</th>\n",
       "      <th>Adj Close</th>\n",
       "      <th>Volume</th>\n",
       "      <th>HL_pct</th>\n",
       "      <th>PCT_change</th>\n",
       "    </tr>\n",
       "  </thead>\n",
       "  <tbody>\n",
       "    <tr>\n",
       "      <td>0</td>\n",
       "      <td>1</td>\n",
       "      <td>1</td>\n",
       "      <td>2019-10-21</td>\n",
       "      <td>. from kalki koechlin to amy jackson and karee...</td>\n",
       "      <td>0.066256</td>\n",
       "      <td>0.385804</td>\n",
       "      <td>Neutral</td>\n",
       "      <td>Factual</td>\n",
       "      <td>3006.50</td>\n",
       "      <td>886557.0</td>\n",
       "      <td>0.795978</td>\n",
       "      <td>0.728704</td>\n",
       "    </tr>\n",
       "    <tr>\n",
       "      <td>1</td>\n",
       "      <td>2</td>\n",
       "      <td>2</td>\n",
       "      <td>2019-10-22</td>\n",
       "      <td>. When I compose a song; I don't think whether...</td>\n",
       "      <td>0.044899</td>\n",
       "      <td>0.403248</td>\n",
       "      <td>Neutral</td>\n",
       "      <td>Public</td>\n",
       "      <td>2994.50</td>\n",
       "      <td>1125601.0</td>\n",
       "      <td>0.870074</td>\n",
       "      <td>-0.399135</td>\n",
       "    </tr>\n",
       "    <tr>\n",
       "      <td>2</td>\n",
       "      <td>3</td>\n",
       "      <td>3</td>\n",
       "      <td>2019-10-23</td>\n",
       "      <td>. Need fitness motivation? You have to attend ...</td>\n",
       "      <td>0.053053</td>\n",
       "      <td>0.400712</td>\n",
       "      <td>Neutral</td>\n",
       "      <td>Public</td>\n",
       "      <td>3005.75</td>\n",
       "      <td>1055958.0</td>\n",
       "      <td>0.804829</td>\n",
       "      <td>0.459559</td>\n",
       "    </tr>\n",
       "    <tr>\n",
       "      <td>3</td>\n",
       "      <td>4</td>\n",
       "      <td>4</td>\n",
       "      <td>2019-10-24</td>\n",
       "      <td>. Now; recognition by Punjab government must f...</td>\n",
       "      <td>0.078351</td>\n",
       "      <td>0.437144</td>\n",
       "      <td>Neutral</td>\n",
       "      <td>Public</td>\n",
       "      <td>3004.25</td>\n",
       "      <td>1061278.0</td>\n",
       "      <td>0.550229</td>\n",
       "      <td>-0.058217</td>\n",
       "    </tr>\n",
       "    <tr>\n",
       "      <td>4</td>\n",
       "      <td>5</td>\n",
       "      <td>5</td>\n",
       "      <td>2019-10-25</td>\n",
       "      <td>. Dhanteras 2019: Date; time; puja vidhi; shub...</td>\n",
       "      <td>0.068307</td>\n",
       "      <td>0.387471</td>\n",
       "      <td>Neutral</td>\n",
       "      <td>Factual</td>\n",
       "      <td>3020.25</td>\n",
       "      <td>1098391.0</td>\n",
       "      <td>0.883333</td>\n",
       "      <td>0.549313</td>\n",
       "    </tr>\n",
       "  </tbody>\n",
       "</table>\n",
       "</div>"
      ],
      "text/plain": [
       "   level_0  index       Date  \\\n",
       "0        1      1 2019-10-21   \n",
       "1        2      2 2019-10-22   \n",
       "2        3      3 2019-10-23   \n",
       "3        4      4 2019-10-24   \n",
       "4        5      5 2019-10-25   \n",
       "\n",
       "                                            Headline  Polarity  Subjectivity  \\\n",
       "0  . from kalki koechlin to amy jackson and karee...  0.066256      0.385804   \n",
       "1  . When I compose a song; I don't think whether...  0.044899      0.403248   \n",
       "2  . Need fitness motivation? You have to attend ...  0.053053      0.400712   \n",
       "3  . Now; recognition by Punjab government must f...  0.078351      0.437144   \n",
       "4  . Dhanteras 2019: Date; time; puja vidhi; shub...  0.068307      0.387471   \n",
       "\n",
       "  Sentiment  Opinion  Adj Close     Volume    HL_pct  PCT_change  \n",
       "0   Neutral  Factual    3006.50   886557.0  0.795978    0.728704  \n",
       "1   Neutral   Public    2994.50  1125601.0  0.870074   -0.399135  \n",
       "2   Neutral   Public    3005.75  1055958.0  0.804829    0.459559  \n",
       "3   Neutral   Public    3004.25  1061278.0  0.550229   -0.058217  \n",
       "4   Neutral  Factual    3020.25  1098391.0  0.883333    0.549313  "
      ]
     },
     "execution_count": 57,
     "metadata": {},
     "output_type": "execute_result"
    }
   ],
   "source": [
    "merge_data = merge_data.reset_index()\n",
    "merge_data.head()"
   ]
  },
  {
   "cell_type": "code",
   "execution_count": 58,
   "metadata": {
    "scrolled": true
   },
   "outputs": [
    {
     "data": {
      "text/html": [
       "<div>\n",
       "<style scoped>\n",
       "    .dataframe tbody tr th:only-of-type {\n",
       "        vertical-align: middle;\n",
       "    }\n",
       "\n",
       "    .dataframe tbody tr th {\n",
       "        vertical-align: top;\n",
       "    }\n",
       "\n",
       "    .dataframe thead th {\n",
       "        text-align: right;\n",
       "    }\n",
       "</style>\n",
       "<table border=\"1\" class=\"dataframe\">\n",
       "  <thead>\n",
       "    <tr style=\"text-align: right;\">\n",
       "      <th></th>\n",
       "      <th>Date</th>\n",
       "      <th>Headline</th>\n",
       "      <th>Polarity</th>\n",
       "      <th>Subjectivity</th>\n",
       "      <th>Sentiment</th>\n",
       "      <th>Opinion</th>\n",
       "      <th>Adj Close</th>\n",
       "      <th>Volume</th>\n",
       "      <th>HL_pct</th>\n",
       "      <th>PCT_change</th>\n",
       "    </tr>\n",
       "  </thead>\n",
       "  <tbody>\n",
       "    <tr>\n",
       "      <td>0</td>\n",
       "      <td>2019-10-21</td>\n",
       "      <td>. from kalki koechlin to amy jackson and karee...</td>\n",
       "      <td>0.066256</td>\n",
       "      <td>0.385804</td>\n",
       "      <td>Neutral</td>\n",
       "      <td>Factual</td>\n",
       "      <td>3006.50</td>\n",
       "      <td>886557.0</td>\n",
       "      <td>0.795978</td>\n",
       "      <td>0.728704</td>\n",
       "    </tr>\n",
       "    <tr>\n",
       "      <td>1</td>\n",
       "      <td>2019-10-22</td>\n",
       "      <td>. When I compose a song; I don't think whether...</td>\n",
       "      <td>0.044899</td>\n",
       "      <td>0.403248</td>\n",
       "      <td>Neutral</td>\n",
       "      <td>Public</td>\n",
       "      <td>2994.50</td>\n",
       "      <td>1125601.0</td>\n",
       "      <td>0.870074</td>\n",
       "      <td>-0.399135</td>\n",
       "    </tr>\n",
       "    <tr>\n",
       "      <td>2</td>\n",
       "      <td>2019-10-23</td>\n",
       "      <td>. Need fitness motivation? You have to attend ...</td>\n",
       "      <td>0.053053</td>\n",
       "      <td>0.400712</td>\n",
       "      <td>Neutral</td>\n",
       "      <td>Public</td>\n",
       "      <td>3005.75</td>\n",
       "      <td>1055958.0</td>\n",
       "      <td>0.804829</td>\n",
       "      <td>0.459559</td>\n",
       "    </tr>\n",
       "    <tr>\n",
       "      <td>3</td>\n",
       "      <td>2019-10-24</td>\n",
       "      <td>. Now; recognition by Punjab government must f...</td>\n",
       "      <td>0.078351</td>\n",
       "      <td>0.437144</td>\n",
       "      <td>Neutral</td>\n",
       "      <td>Public</td>\n",
       "      <td>3004.25</td>\n",
       "      <td>1061278.0</td>\n",
       "      <td>0.550229</td>\n",
       "      <td>-0.058217</td>\n",
       "    </tr>\n",
       "    <tr>\n",
       "      <td>4</td>\n",
       "      <td>2019-10-25</td>\n",
       "      <td>. Dhanteras 2019: Date; time; puja vidhi; shub...</td>\n",
       "      <td>0.068307</td>\n",
       "      <td>0.387471</td>\n",
       "      <td>Neutral</td>\n",
       "      <td>Factual</td>\n",
       "      <td>3020.25</td>\n",
       "      <td>1098391.0</td>\n",
       "      <td>0.883333</td>\n",
       "      <td>0.549313</td>\n",
       "    </tr>\n",
       "  </tbody>\n",
       "</table>\n",
       "</div>"
      ],
      "text/plain": [
       "        Date                                           Headline  Polarity  \\\n",
       "0 2019-10-21  . from kalki koechlin to amy jackson and karee...  0.066256   \n",
       "1 2019-10-22  . When I compose a song; I don't think whether...  0.044899   \n",
       "2 2019-10-23  . Need fitness motivation? You have to attend ...  0.053053   \n",
       "3 2019-10-24  . Now; recognition by Punjab government must f...  0.078351   \n",
       "4 2019-10-25  . Dhanteras 2019: Date; time; puja vidhi; shub...  0.068307   \n",
       "\n",
       "   Subjectivity Sentiment  Opinion  Adj Close     Volume    HL_pct  PCT_change  \n",
       "0      0.385804   Neutral  Factual    3006.50   886557.0  0.795978    0.728704  \n",
       "1      0.403248   Neutral   Public    2994.50  1125601.0  0.870074   -0.399135  \n",
       "2      0.400712   Neutral   Public    3005.75  1055958.0  0.804829    0.459559  \n",
       "3      0.437144   Neutral   Public    3004.25  1061278.0  0.550229   -0.058217  \n",
       "4      0.387471   Neutral  Factual    3020.25  1098391.0  0.883333    0.549313  "
      ]
     },
     "execution_count": 58,
     "metadata": {},
     "output_type": "execute_result"
    }
   ],
   "source": [
    "merge_data = merge_data.drop(['level_0', 'index'], axis=1)\n",
    "merge_data.head()"
   ]
  },
  {
   "cell_type": "markdown",
   "metadata": {},
   "source": [
    "### Considering only required columns of the merged Dataset"
   ]
  },
  {
   "cell_type": "code",
   "execution_count": 59,
   "metadata": {},
   "outputs": [
    {
     "data": {
      "text/html": [
       "<div>\n",
       "<style scoped>\n",
       "    .dataframe tbody tr th:only-of-type {\n",
       "        vertical-align: middle;\n",
       "    }\n",
       "\n",
       "    .dataframe tbody tr th {\n",
       "        vertical-align: top;\n",
       "    }\n",
       "\n",
       "    .dataframe thead th {\n",
       "        text-align: right;\n",
       "    }\n",
       "</style>\n",
       "<table border=\"1\" class=\"dataframe\">\n",
       "  <thead>\n",
       "    <tr style=\"text-align: right;\">\n",
       "      <th></th>\n",
       "      <th>Date</th>\n",
       "      <th>Polarity</th>\n",
       "      <th>Subjectivity</th>\n",
       "      <th>Adj Close</th>\n",
       "      <th>HL_pct</th>\n",
       "      <th>PCT_change</th>\n",
       "    </tr>\n",
       "  </thead>\n",
       "  <tbody>\n",
       "    <tr>\n",
       "      <td>0</td>\n",
       "      <td>2019-10-21</td>\n",
       "      <td>0.066256</td>\n",
       "      <td>0.385804</td>\n",
       "      <td>3006.50</td>\n",
       "      <td>0.795978</td>\n",
       "      <td>0.728704</td>\n",
       "    </tr>\n",
       "    <tr>\n",
       "      <td>1</td>\n",
       "      <td>2019-10-22</td>\n",
       "      <td>0.044899</td>\n",
       "      <td>0.403248</td>\n",
       "      <td>2994.50</td>\n",
       "      <td>0.870074</td>\n",
       "      <td>-0.399135</td>\n",
       "    </tr>\n",
       "    <tr>\n",
       "      <td>2</td>\n",
       "      <td>2019-10-23</td>\n",
       "      <td>0.053053</td>\n",
       "      <td>0.400712</td>\n",
       "      <td>3005.75</td>\n",
       "      <td>0.804829</td>\n",
       "      <td>0.459559</td>\n",
       "    </tr>\n",
       "    <tr>\n",
       "      <td>3</td>\n",
       "      <td>2019-10-24</td>\n",
       "      <td>0.078351</td>\n",
       "      <td>0.437144</td>\n",
       "      <td>3004.25</td>\n",
       "      <td>0.550229</td>\n",
       "      <td>-0.058217</td>\n",
       "    </tr>\n",
       "    <tr>\n",
       "      <td>4</td>\n",
       "      <td>2019-10-25</td>\n",
       "      <td>0.068307</td>\n",
       "      <td>0.387471</td>\n",
       "      <td>3020.25</td>\n",
       "      <td>0.883333</td>\n",
       "      <td>0.549313</td>\n",
       "    </tr>\n",
       "  </tbody>\n",
       "</table>\n",
       "</div>"
      ],
      "text/plain": [
       "        Date  Polarity  Subjectivity  Adj Close    HL_pct  PCT_change\n",
       "0 2019-10-21  0.066256      0.385804    3006.50  0.795978    0.728704\n",
       "1 2019-10-22  0.044899      0.403248    2994.50  0.870074   -0.399135\n",
       "2 2019-10-23  0.053053      0.400712    3005.75  0.804829    0.459559\n",
       "3 2019-10-24  0.078351      0.437144    3004.25  0.550229   -0.058217\n",
       "4 2019-10-25  0.068307      0.387471    3020.25  0.883333    0.549313"
      ]
     },
     "execution_count": 59,
     "metadata": {},
     "output_type": "execute_result"
    }
   ],
   "source": [
    "\n",
    "\n",
    "df_needed = merge_data[['Date', 'Polarity', 'Subjectivity','Adj Close','HL_pct','PCT_change']]\n",
    "df_needed.head()"
   ]
  },
  {
   "cell_type": "code",
   "execution_count": 60,
   "metadata": {},
   "outputs": [],
   "source": [
    "df_needed = df_needed.set_index('Date')"
   ]
  },
  {
   "cell_type": "code",
   "execution_count": 61,
   "metadata": {
    "scrolled": true
   },
   "outputs": [
    {
     "data": {
      "text/html": [
       "<div>\n",
       "<style scoped>\n",
       "    .dataframe tbody tr th:only-of-type {\n",
       "        vertical-align: middle;\n",
       "    }\n",
       "\n",
       "    .dataframe tbody tr th {\n",
       "        vertical-align: top;\n",
       "    }\n",
       "\n",
       "    .dataframe thead th {\n",
       "        text-align: right;\n",
       "    }\n",
       "</style>\n",
       "<table border=\"1\" class=\"dataframe\">\n",
       "  <thead>\n",
       "    <tr style=\"text-align: right;\">\n",
       "      <th></th>\n",
       "      <th>Polarity</th>\n",
       "      <th>Subjectivity</th>\n",
       "      <th>Adj Close</th>\n",
       "      <th>HL_pct</th>\n",
       "      <th>PCT_change</th>\n",
       "    </tr>\n",
       "    <tr>\n",
       "      <th>Date</th>\n",
       "      <th></th>\n",
       "      <th></th>\n",
       "      <th></th>\n",
       "      <th></th>\n",
       "      <th></th>\n",
       "    </tr>\n",
       "  </thead>\n",
       "  <tbody>\n",
       "    <tr>\n",
       "      <td>2019-10-21</td>\n",
       "      <td>0.066256</td>\n",
       "      <td>0.385804</td>\n",
       "      <td>3006.50</td>\n",
       "      <td>0.795978</td>\n",
       "      <td>0.728704</td>\n",
       "    </tr>\n",
       "    <tr>\n",
       "      <td>2019-10-22</td>\n",
       "      <td>0.044899</td>\n",
       "      <td>0.403248</td>\n",
       "      <td>2994.50</td>\n",
       "      <td>0.870074</td>\n",
       "      <td>-0.399135</td>\n",
       "    </tr>\n",
       "    <tr>\n",
       "      <td>2019-10-23</td>\n",
       "      <td>0.053053</td>\n",
       "      <td>0.400712</td>\n",
       "      <td>3005.75</td>\n",
       "      <td>0.804829</td>\n",
       "      <td>0.459559</td>\n",
       "    </tr>\n",
       "    <tr>\n",
       "      <td>2019-10-24</td>\n",
       "      <td>0.078351</td>\n",
       "      <td>0.437144</td>\n",
       "      <td>3004.25</td>\n",
       "      <td>0.550229</td>\n",
       "      <td>-0.058217</td>\n",
       "    </tr>\n",
       "    <tr>\n",
       "      <td>2019-10-25</td>\n",
       "      <td>0.068307</td>\n",
       "      <td>0.387471</td>\n",
       "      <td>3020.25</td>\n",
       "      <td>0.883333</td>\n",
       "      <td>0.549313</td>\n",
       "    </tr>\n",
       "  </tbody>\n",
       "</table>\n",
       "</div>"
      ],
      "text/plain": [
       "            Polarity  Subjectivity  Adj Close    HL_pct  PCT_change\n",
       "Date                                                               \n",
       "2019-10-21  0.066256      0.385804    3006.50  0.795978    0.728704\n",
       "2019-10-22  0.044899      0.403248    2994.50  0.870074   -0.399135\n",
       "2019-10-23  0.053053      0.400712    3005.75  0.804829    0.459559\n",
       "2019-10-24  0.078351      0.437144    3004.25  0.550229   -0.058217\n",
       "2019-10-25  0.068307      0.387471    3020.25  0.883333    0.549313"
      ]
     },
     "execution_count": 61,
     "metadata": {},
     "output_type": "execute_result"
    }
   ],
   "source": [
    "df_needed.head()"
   ]
  },
  {
   "cell_type": "markdown",
   "metadata": {},
   "source": [
    "### Scaling the data using MinMaxScaler to develop a model based on it."
   ]
  },
  {
   "cell_type": "code",
   "execution_count": 62,
   "metadata": {},
   "outputs": [
    {
     "data": {
      "text/html": [
       "<div>\n",
       "<style scoped>\n",
       "    .dataframe tbody tr th:only-of-type {\n",
       "        vertical-align: middle;\n",
       "    }\n",
       "\n",
       "    .dataframe tbody tr th {\n",
       "        vertical-align: top;\n",
       "    }\n",
       "\n",
       "    .dataframe thead th {\n",
       "        text-align: right;\n",
       "    }\n",
       "</style>\n",
       "<table border=\"1\" class=\"dataframe\">\n",
       "  <thead>\n",
       "    <tr style=\"text-align: right;\">\n",
       "      <th></th>\n",
       "      <th>Polarity</th>\n",
       "      <th>Subjectivity</th>\n",
       "      <th>Adj Close</th>\n",
       "      <th>HL_pct</th>\n",
       "      <th>PCT_change</th>\n",
       "    </tr>\n",
       "    <tr>\n",
       "      <th>Date</th>\n",
       "      <th></th>\n",
       "      <th></th>\n",
       "      <th></th>\n",
       "      <th></th>\n",
       "      <th></th>\n",
       "    </tr>\n",
       "  </thead>\n",
       "  <tbody>\n",
       "    <tr>\n",
       "      <td>2019-10-21</td>\n",
       "      <td>0.515255</td>\n",
       "      <td>0.358985</td>\n",
       "      <td>0.678134</td>\n",
       "      <td>0.053104</td>\n",
       "      <td>0.507520</td>\n",
       "    </tr>\n",
       "    <tr>\n",
       "      <td>2019-10-22</td>\n",
       "      <td>0.325146</td>\n",
       "      <td>0.504190</td>\n",
       "      <td>0.668003</td>\n",
       "      <td>0.058595</td>\n",
       "      <td>0.453282</td>\n",
       "    </tr>\n",
       "    <tr>\n",
       "      <td>2019-10-23</td>\n",
       "      <td>0.397734</td>\n",
       "      <td>0.483084</td>\n",
       "      <td>0.677501</td>\n",
       "      <td>0.053760</td>\n",
       "      <td>0.494577</td>\n",
       "    </tr>\n",
       "    <tr>\n",
       "      <td>2019-10-24</td>\n",
       "      <td>0.622928</td>\n",
       "      <td>0.786341</td>\n",
       "      <td>0.676235</td>\n",
       "      <td>0.034890</td>\n",
       "      <td>0.469677</td>\n",
       "    </tr>\n",
       "    <tr>\n",
       "      <td>2019-10-25</td>\n",
       "      <td>0.533515</td>\n",
       "      <td>0.372858</td>\n",
       "      <td>0.689743</td>\n",
       "      <td>0.059578</td>\n",
       "      <td>0.498893</td>\n",
       "    </tr>\n",
       "  </tbody>\n",
       "</table>\n",
       "</div>"
      ],
      "text/plain": [
       "            Polarity  Subjectivity  Adj Close    HL_pct  PCT_change\n",
       "Date                                                               \n",
       "2019-10-21  0.515255      0.358985   0.678134  0.053104    0.507520\n",
       "2019-10-22  0.325146      0.504190   0.668003  0.058595    0.453282\n",
       "2019-10-23  0.397734      0.483084   0.677501  0.053760    0.494577\n",
       "2019-10-24  0.622928      0.786341   0.676235  0.034890    0.469677\n",
       "2019-10-25  0.533515      0.372858   0.689743  0.059578    0.498893"
      ]
     },
     "execution_count": 62,
     "metadata": {},
     "output_type": "execute_result"
    }
   ],
   "source": [
    "scaler = MinMaxScaler()\n",
    "new = pd.DataFrame(scaler.fit_transform(df_needed))\n",
    "new.columns = df_needed.columns\n",
    "new.index=df_needed.index\n",
    "new.head()"
   ]
  },
  {
   "cell_type": "code",
   "execution_count": 63,
   "metadata": {},
   "outputs": [],
   "source": [
    "trainSet = new[: int(0.7*(len(new)))]\n",
    "testSet = new[int(0.7*(len(new))):]"
   ]
  },
  {
   "cell_type": "code",
   "execution_count": 64,
   "metadata": {},
   "outputs": [
    {
     "name": "stderr",
     "output_type": "stream",
     "text": [
      "C:\\Users\\Komal-ssd\\Anaconda3\\lib\\site-packages\\statsmodels\\tsa\\base\\tsa_model.py:219: ValueWarning: A date index has been provided, but it has no associated frequency information and so will be ignored when e.g. forecasting.\n",
      "  ' ignored when e.g. forecasting.', ValueWarning)\n"
     ]
    }
   ],
   "source": [
    "model = VAR(endog = trainSet)\n",
    "fit = model.fit()"
   ]
  },
  {
   "cell_type": "markdown",
   "metadata": {},
   "source": [
    "### Predicted vs Test Set"
   ]
  },
  {
   "cell_type": "code",
   "execution_count": 65,
   "metadata": {},
   "outputs": [
    {
     "name": "stderr",
     "output_type": "stream",
     "text": [
      "C:\\Users\\Komal-ssd\\Anaconda3\\lib\\site-packages\\statsmodels\\base\\wrapper.py:35: FutureWarning: y is a deprecated alias for endog, will be removed in version 0.11.0\n",
      "  obj = getattr(results, attr)\n"
     ]
    }
   ],
   "source": [
    "pred = fit.forecast(fit.y, steps=len(testSet))\n",
    "predicted = pd.DataFrame(pred, columns=new.columns)"
   ]
  },
  {
   "cell_type": "code",
   "execution_count": 66,
   "metadata": {},
   "outputs": [
    {
     "data": {
      "text/html": [
       "<div>\n",
       "<style scoped>\n",
       "    .dataframe tbody tr th:only-of-type {\n",
       "        vertical-align: middle;\n",
       "    }\n",
       "\n",
       "    .dataframe tbody tr th {\n",
       "        vertical-align: top;\n",
       "    }\n",
       "\n",
       "    .dataframe thead th {\n",
       "        text-align: right;\n",
       "    }\n",
       "</style>\n",
       "<table border=\"1\" class=\"dataframe\">\n",
       "  <thead>\n",
       "    <tr style=\"text-align: right;\">\n",
       "      <th></th>\n",
       "      <th>Polarity</th>\n",
       "      <th>Subjectivity</th>\n",
       "      <th>Adj Close</th>\n",
       "      <th>HL_pct</th>\n",
       "      <th>PCT_change</th>\n",
       "    </tr>\n",
       "  </thead>\n",
       "  <tbody>\n",
       "    <tr>\n",
       "      <td>0</td>\n",
       "      <td>0.426673</td>\n",
       "      <td>0.485528</td>\n",
       "      <td>0.515511</td>\n",
       "      <td>0.291317</td>\n",
       "      <td>0.536695</td>\n",
       "    </tr>\n",
       "    <tr>\n",
       "      <td>1</td>\n",
       "      <td>0.447732</td>\n",
       "      <td>0.475735</td>\n",
       "      <td>0.511616</td>\n",
       "      <td>0.289275</td>\n",
       "      <td>0.483832</td>\n",
       "    </tr>\n",
       "    <tr>\n",
       "      <td>2</td>\n",
       "      <td>0.436335</td>\n",
       "      <td>0.467577</td>\n",
       "      <td>0.516742</td>\n",
       "      <td>0.297119</td>\n",
       "      <td>0.497501</td>\n",
       "    </tr>\n",
       "    <tr>\n",
       "      <td>3</td>\n",
       "      <td>0.437203</td>\n",
       "      <td>0.464893</td>\n",
       "      <td>0.518669</td>\n",
       "      <td>0.299758</td>\n",
       "      <td>0.492852</td>\n",
       "    </tr>\n",
       "    <tr>\n",
       "      <td>4</td>\n",
       "      <td>0.435310</td>\n",
       "      <td>0.462484</td>\n",
       "      <td>0.521050</td>\n",
       "      <td>0.302001</td>\n",
       "      <td>0.493555</td>\n",
       "    </tr>\n",
       "  </tbody>\n",
       "</table>\n",
       "</div>"
      ],
      "text/plain": [
       "   Polarity  Subjectivity  Adj Close    HL_pct  PCT_change\n",
       "0  0.426673      0.485528   0.515511  0.291317    0.536695\n",
       "1  0.447732      0.475735   0.511616  0.289275    0.483832\n",
       "2  0.436335      0.467577   0.516742  0.297119    0.497501\n",
       "3  0.437203      0.464893   0.518669  0.299758    0.492852\n",
       "4  0.435310      0.462484   0.521050  0.302001    0.493555"
      ]
     },
     "execution_count": 66,
     "metadata": {},
     "output_type": "execute_result"
    }
   ],
   "source": [
    "predicted.head()"
   ]
  },
  {
   "cell_type": "code",
   "execution_count": 67,
   "metadata": {
    "scrolled": true
   },
   "outputs": [
    {
     "data": {
      "text/html": [
       "<div>\n",
       "<style scoped>\n",
       "    .dataframe tbody tr th:only-of-type {\n",
       "        vertical-align: middle;\n",
       "    }\n",
       "\n",
       "    .dataframe tbody tr th {\n",
       "        vertical-align: top;\n",
       "    }\n",
       "\n",
       "    .dataframe thead th {\n",
       "        text-align: right;\n",
       "    }\n",
       "</style>\n",
       "<table border=\"1\" class=\"dataframe\">\n",
       "  <thead>\n",
       "    <tr style=\"text-align: right;\">\n",
       "      <th></th>\n",
       "      <th>Polarity</th>\n",
       "      <th>Subjectivity</th>\n",
       "      <th>Adj Close</th>\n",
       "      <th>HL_pct</th>\n",
       "      <th>PCT_change</th>\n",
       "    </tr>\n",
       "    <tr>\n",
       "      <th>Date</th>\n",
       "      <th></th>\n",
       "      <th></th>\n",
       "      <th></th>\n",
       "      <th></th>\n",
       "      <th></th>\n",
       "    </tr>\n",
       "  </thead>\n",
       "  <tbody>\n",
       "    <tr>\n",
       "      <td>2020-04-16</td>\n",
       "      <td>0.691883</td>\n",
       "      <td>0.600080</td>\n",
       "      <td>0.493246</td>\n",
       "      <td>0.224874</td>\n",
       "      <td>0.506793</td>\n",
       "    </tr>\n",
       "    <tr>\n",
       "      <td>2020-04-17</td>\n",
       "      <td>0.465852</td>\n",
       "      <td>0.520604</td>\n",
       "      <td>0.562896</td>\n",
       "      <td>0.162253</td>\n",
       "      <td>0.484235</td>\n",
       "    </tr>\n",
       "    <tr>\n",
       "      <td>2020-04-19</td>\n",
       "      <td>0.349143</td>\n",
       "      <td>0.517959</td>\n",
       "      <td>0.543900</td>\n",
       "      <td>0.020829</td>\n",
       "      <td>0.473321</td>\n",
       "    </tr>\n",
       "    <tr>\n",
       "      <td>2020-04-20</td>\n",
       "      <td>0.625916</td>\n",
       "      <td>0.512154</td>\n",
       "      <td>0.509287</td>\n",
       "      <td>0.182419</td>\n",
       "      <td>0.380043</td>\n",
       "    </tr>\n",
       "    <tr>\n",
       "      <td>2020-04-21</td>\n",
       "      <td>0.614604</td>\n",
       "      <td>0.371802</td>\n",
       "      <td>0.446391</td>\n",
       "      <td>0.310506</td>\n",
       "      <td>0.343983</td>\n",
       "    </tr>\n",
       "  </tbody>\n",
       "</table>\n",
       "</div>"
      ],
      "text/plain": [
       "            Polarity  Subjectivity  Adj Close    HL_pct  PCT_change\n",
       "Date                                                               \n",
       "2020-04-16  0.691883      0.600080   0.493246  0.224874    0.506793\n",
       "2020-04-17  0.465852      0.520604   0.562896  0.162253    0.484235\n",
       "2020-04-19  0.349143      0.517959   0.543900  0.020829    0.473321\n",
       "2020-04-20  0.625916      0.512154   0.509287  0.182419    0.380043\n",
       "2020-04-21  0.614604      0.371802   0.446391  0.310506    0.343983"
      ]
     },
     "execution_count": 67,
     "metadata": {},
     "output_type": "execute_result"
    }
   ],
   "source": [
    "testSet.head()"
   ]
  },
  {
   "cell_type": "markdown",
   "metadata": {},
   "source": [
    "### Check the accuracy"
   ]
  },
  {
   "cell_type": "code",
   "execution_count": 68,
   "metadata": {
    "scrolled": true
   },
   "outputs": [
    {
     "data": {
      "text/plain": [
       "0.13147195256100908"
      ]
     },
     "execution_count": 68,
     "metadata": {},
     "output_type": "execute_result"
    }
   ],
   "source": [
    "np.sqrt(mean_squared_error(predicted['Adj Close'], testSet['Adj Close']))"
   ]
  },
  {
   "cell_type": "code",
   "execution_count": 69,
   "metadata": {},
   "outputs": [
    {
     "name": "stderr",
     "output_type": "stream",
     "text": [
      "C:\\Users\\Komal-ssd\\Anaconda3\\lib\\site-packages\\seaborn\\axisgrid.py:1847: UserWarning: JointGrid annotation is deprecated and will be removed in a future release.\n",
      "  warnings.warn(UserWarning(msg))\n"
     ]
    },
    {
     "data": {
      "image/png": "[encoded data removed]",
      "text/plain": [
       "<Figure size 432x432 with 3 Axes>"
      ]
     },
     "metadata": {
      "needs_background": "light"
     },
     "output_type": "display_data"
    }
   ],
   "source": [
    "sns.jointplot(testSet['Adj Close'], predicted['Adj Close']).annotate(stats.pearsonr)\n",
    "plt.show()"
   ]
  },
  {
   "cell_type": "code",
   "execution_count": null,
   "metadata": {},
   "outputs": [],
   "source": []
  }
 ],
 "metadata": {
  "kernelspec": {
   "display_name": "Python 3",
   "language": "python",
   "name": "python3"
  },
  "language_info": {
   "codemirror_mode": {
    "name": "ipython",
    "version": 3
   },
   "file_extension": ".py",
   "mimetype": "text/x-python",
   "name": "python",
   "nbconvert_exporter": "python",
   "pygments_lexer": "ipython3",
   "version": "3.7.4"
  }
 },
 "nbformat": 4,
 "nbformat_minor": 4
}
